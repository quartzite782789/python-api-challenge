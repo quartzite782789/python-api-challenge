{
 "cells": [
  {
   "cell_type": "markdown",
   "metadata": {},
   "source": [
    "# VacationPy\n",
    "---\n",
    "\n",
    "## Starter Code to Import Libraries and Load the Weather and Coordinates Data"
   ]
  },
  {
   "cell_type": "code",
   "execution_count": 3,
   "metadata": {},
   "outputs": [
    {
     "data": {
      "text/html": [
       "<script type=\"esms-options\">{\"shimMode\": true}</script><style>*[data-root-id],\n",
       "*[data-root-id] > * {\n",
       "  box-sizing: border-box;\n",
       "  font-family: var(--jp-ui-font-family);\n",
       "  font-size: var(--jp-ui-font-size1);\n",
       "  color: var(--vscode-editor-foreground, var(--jp-ui-font-color1));\n",
       "}\n",
       "\n",
       "/* Override VSCode background color */\n",
       ".cell-output-ipywidget-background:has(\n",
       "    > .cell-output-ipywidget-background > .lm-Widget > *[data-root-id]\n",
       "  ),\n",
       ".cell-output-ipywidget-background:has(> .lm-Widget > *[data-root-id]) {\n",
       "  background-color: transparent !important;\n",
       "}\n",
       "</style>"
      ]
     },
     "metadata": {},
     "output_type": "display_data"
    },
    {
     "data": {
      "application/javascript": "(function(root) {\n  function now() {\n    return new Date();\n  }\n\n  const force = true;\n  const py_version = '3.5.2'.replace('rc', '-rc.').replace('.dev', '-dev.');\n  const reloading = false;\n  const Bokeh = root.Bokeh;\n\n  // Set a timeout for this load but only if we are not already initializing\n  if (typeof (root._bokeh_timeout) === \"undefined\" || (force || !root._bokeh_is_initializing)) {\n    root._bokeh_timeout = Date.now() + 5000;\n    root._bokeh_failed_load = false;\n  }\n\n  function run_callbacks() {\n    try {\n      root._bokeh_onload_callbacks.forEach(function(callback) {\n        if (callback != null)\n          callback();\n      });\n    } finally {\n      delete root._bokeh_onload_callbacks;\n    }\n    console.debug(\"Bokeh: all callbacks have finished\");\n  }\n\n  function load_libs(css_urls, js_urls, js_modules, js_exports, callback) {\n    if (css_urls == null) css_urls = [];\n    if (js_urls == null) js_urls = [];\n    if (js_modules == null) js_modules = [];\n    if (js_exports == null) js_exports = {};\n\n    root._bokeh_onload_callbacks.push(callback);\n\n    if (root._bokeh_is_loading > 0) {\n      // Don't load bokeh if it is still initializing\n      console.debug(\"Bokeh: BokehJS is being loaded, scheduling callback at\", now());\n      return null;\n    } else if (js_urls.length === 0 && js_modules.length === 0 && Object.keys(js_exports).length === 0) {\n      // There is nothing to load\n      run_callbacks();\n      return null;\n    }\n\n    function on_load() {\n      root._bokeh_is_loading--;\n      if (root._bokeh_is_loading === 0) {\n        console.debug(\"Bokeh: all BokehJS libraries/stylesheets loaded\");\n        run_callbacks()\n      }\n    }\n    window._bokeh_on_load = on_load\n\n    function on_error(e) {\n      const src_el = e.srcElement\n      console.error(\"failed to load \" + (src_el.href || src_el.src));\n    }\n\n    const skip = [];\n    if (window.requirejs) {\n      window.requirejs.config({'packages': {}, 'paths': {}, 'shim': {}});\n      root._bokeh_is_loading = css_urls.length + 0;\n    } else {\n      root._bokeh_is_loading = css_urls.length + js_urls.length + js_modules.length + Object.keys(js_exports).length;\n    }\n\n    const existing_stylesheets = []\n    const links = document.getElementsByTagName('link')\n    for (let i = 0; i < links.length; i++) {\n      const link = links[i]\n      if (link.href != null) {\n        existing_stylesheets.push(link.href)\n      }\n    }\n    for (let i = 0; i < css_urls.length; i++) {\n      const url = css_urls[i];\n      const escaped = encodeURI(url)\n      if (existing_stylesheets.indexOf(escaped) !== -1) {\n        on_load()\n        continue;\n      }\n      const element = document.createElement(\"link\");\n      element.onload = on_load;\n      element.onerror = on_error;\n      element.rel = \"stylesheet\";\n      element.type = \"text/css\";\n      element.href = url;\n      console.debug(\"Bokeh: injecting link tag for BokehJS stylesheet: \", url);\n      document.body.appendChild(element);\n    }    var existing_scripts = []\n    const scripts = document.getElementsByTagName('script')\n    for (let i = 0; i < scripts.length; i++) {\n      var script = scripts[i]\n      if (script.src != null) {\n        existing_scripts.push(script.src)\n      }\n    }\n    for (let i = 0; i < js_urls.length; i++) {\n      const url = js_urls[i];\n      const escaped = encodeURI(url)\n      if (skip.indexOf(escaped) !== -1 || existing_scripts.indexOf(escaped) !== -1) {\n        if (!window.requirejs) {\n          on_load();\n        }\n        continue;\n      }\n      const element = document.createElement('script');\n      element.onload = on_load;\n      element.onerror = on_error;\n      element.async = false;\n      element.src = url;\n      console.debug(\"Bokeh: injecting script tag for BokehJS library: \", url);\n      document.head.appendChild(element);\n    }\n    for (let i = 0; i < js_modules.length; i++) {\n      const url = js_modules[i];\n      const escaped = encodeURI(url)\n      if (skip.indexOf(escaped) !== -1 || existing_scripts.indexOf(escaped) !== -1) {\n        if (!window.requirejs) {\n          on_load();\n        }\n        continue;\n      }\n      var element = document.createElement('script');\n      element.onload = on_load;\n      element.onerror = on_error;\n      element.async = false;\n      element.src = url;\n      element.type = \"module\";\n      console.debug(\"Bokeh: injecting script tag for BokehJS library: \", url);\n      document.head.appendChild(element);\n    }\n    for (const name in js_exports) {\n      const url = js_exports[name];\n      const escaped = encodeURI(url)\n      if (skip.indexOf(escaped) >= 0 || root[name] != null) {\n        if (!window.requirejs) {\n          on_load();\n        }\n        continue;\n      }\n      var element = document.createElement('script');\n      element.onerror = on_error;\n      element.async = false;\n      element.type = \"module\";\n      console.debug(\"Bokeh: injecting script tag for BokehJS library: \", url);\n      element.textContent = `\n      import ${name} from \"${url}\"\n      window.${name} = ${name}\n      window._bokeh_on_load()\n      `\n      document.head.appendChild(element);\n    }\n    if (!js_urls.length && !js_modules.length) {\n      on_load()\n    }\n  };\n\n  function inject_raw_css(css) {\n    const element = document.createElement(\"style\");\n    element.appendChild(document.createTextNode(css));\n    document.body.appendChild(element);\n  }\n\n  const js_urls = [\"https://cdn.holoviz.org/panel/1.5.2/dist/bundled/reactiveesm/es-module-shims@^1.10.0/dist/es-module-shims.min.js\", \"https://cdn.bokeh.org/bokeh/release/bokeh-3.5.2.min.js\", \"https://cdn.bokeh.org/bokeh/release/bokeh-gl-3.5.2.min.js\", \"https://cdn.bokeh.org/bokeh/release/bokeh-widgets-3.5.2.min.js\", \"https://cdn.bokeh.org/bokeh/release/bokeh-tables-3.5.2.min.js\", \"https://cdn.holoviz.org/panel/1.5.2/dist/panel.min.js\"];\n  const js_modules = [];\n  const js_exports = {};\n  const css_urls = [];\n  const inline_js = [    function(Bokeh) {\n      Bokeh.set_log_level(\"info\");\n    },\nfunction(Bokeh) {} // ensure no trailing comma for IE\n  ];\n\n  function run_inline_js() {\n    if ((root.Bokeh !== undefined) || (force === true)) {\n      for (let i = 0; i < inline_js.length; i++) {\n        try {\n          inline_js[i].call(root, root.Bokeh);\n        } catch(e) {\n          if (!reloading) {\n            throw e;\n          }\n        }\n      }\n      // Cache old bokeh versions\n      if (Bokeh != undefined && !reloading) {\n        var NewBokeh = root.Bokeh;\n        if (Bokeh.versions === undefined) {\n          Bokeh.versions = new Map();\n        }\n        if (NewBokeh.version !== Bokeh.version) {\n          Bokeh.versions.set(NewBokeh.version, NewBokeh)\n        }\n        root.Bokeh = Bokeh;\n      }\n    } else if (Date.now() < root._bokeh_timeout) {\n      setTimeout(run_inline_js, 100);\n    } else if (!root._bokeh_failed_load) {\n      console.log(\"Bokeh: BokehJS failed to load within specified timeout.\");\n      root._bokeh_failed_load = true;\n    }\n    root._bokeh_is_initializing = false\n  }\n\n  function load_or_wait() {\n    // Implement a backoff loop that tries to ensure we do not load multiple\n    // versions of Bokeh and its dependencies at the same time.\n    // In recent versions we use the root._bokeh_is_initializing flag\n    // to determine whether there is an ongoing attempt to initialize\n    // bokeh, however for backward compatibility we also try to ensure\n    // that we do not start loading a newer (Panel>=1.0 and Bokeh>3) version\n    // before older versions are fully initialized.\n    if (root._bokeh_is_initializing && Date.now() > root._bokeh_timeout) {\n      // If the timeout and bokeh was not successfully loaded we reset\n      // everything and try loading again\n      root._bokeh_timeout = Date.now() + 5000;\n      root._bokeh_is_initializing = false;\n      root._bokeh_onload_callbacks = undefined;\n      root._bokeh_is_loading = 0\n      console.log(\"Bokeh: BokehJS was loaded multiple times but one version failed to initialize.\");\n      load_or_wait();\n    } else if (root._bokeh_is_initializing || (typeof root._bokeh_is_initializing === \"undefined\" && root._bokeh_onload_callbacks !== undefined)) {\n      setTimeout(load_or_wait, 100);\n    } else {\n      root._bokeh_is_initializing = true\n      root._bokeh_onload_callbacks = []\n      const bokeh_loaded = root.Bokeh != null && (root.Bokeh.version === py_version || (root.Bokeh.versions !== undefined && root.Bokeh.versions.has(py_version)));\n      if (!reloading && !bokeh_loaded) {\n        if (root.Bokeh) {\n          root.Bokeh = undefined;\n        }\n        console.debug(\"Bokeh: BokehJS not loaded, scheduling load and callback at\", now());\n      }\n      load_libs(css_urls, js_urls, js_modules, js_exports, function() {\n        console.debug(\"Bokeh: BokehJS plotting callback run at\", now());\n        run_inline_js();\n      });\n    }\n  }\n  // Give older versions of the autoload script a head-start to ensure\n  // they initialize before we start loading newer version.\n  setTimeout(load_or_wait, 100)\n}(window));",
      "application/vnd.holoviews_load.v0+json": ""
     },
     "metadata": {},
     "output_type": "display_data"
    },
    {
     "data": {
      "application/javascript": "\nif ((window.PyViz === undefined) || (window.PyViz instanceof HTMLElement)) {\n  window.PyViz = {comms: {}, comm_status:{}, kernels:{}, receivers: {}, plot_index: []}\n}\n\n\n    function JupyterCommManager() {\n    }\n\n    JupyterCommManager.prototype.register_target = function(plot_id, comm_id, msg_handler) {\n      if (window.comm_manager || ((window.Jupyter !== undefined) && (Jupyter.notebook.kernel != null))) {\n        var comm_manager = window.comm_manager || Jupyter.notebook.kernel.comm_manager;\n        comm_manager.register_target(comm_id, function(comm) {\n          comm.on_msg(msg_handler);\n        });\n      } else if ((plot_id in window.PyViz.kernels) && (window.PyViz.kernels[plot_id])) {\n        window.PyViz.kernels[plot_id].registerCommTarget(comm_id, function(comm) {\n          comm.onMsg = msg_handler;\n        });\n      } else if (typeof google != 'undefined' && google.colab.kernel != null) {\n        google.colab.kernel.comms.registerTarget(comm_id, (comm) => {\n          var messages = comm.messages[Symbol.asyncIterator]();\n          function processIteratorResult(result) {\n            var message = result.value;\n            console.log(message)\n            var content = {data: message.data, comm_id};\n            var buffers = []\n            for (var buffer of message.buffers || []) {\n              buffers.push(new DataView(buffer))\n            }\n            var metadata = message.metadata || {};\n            var msg = {content, buffers, metadata}\n            msg_handler(msg);\n            return messages.next().then(processIteratorResult);\n          }\n          return messages.next().then(processIteratorResult);\n        })\n      }\n    }\n\n    JupyterCommManager.prototype.get_client_comm = function(plot_id, comm_id, msg_handler) {\n      if (comm_id in window.PyViz.comms) {\n        return window.PyViz.comms[comm_id];\n      } else if (window.comm_manager || ((window.Jupyter !== undefined) && (Jupyter.notebook.kernel != null))) {\n        var comm_manager = window.comm_manager || Jupyter.notebook.kernel.comm_manager;\n        var comm = comm_manager.new_comm(comm_id, {}, {}, {}, comm_id);\n        if (msg_handler) {\n          comm.on_msg(msg_handler);\n        }\n      } else if ((plot_id in window.PyViz.kernels) && (window.PyViz.kernels[plot_id])) {\n        var comm = window.PyViz.kernels[plot_id].connectToComm(comm_id);\n        comm.open();\n        if (msg_handler) {\n          comm.onMsg = msg_handler;\n        }\n      } else if (typeof google != 'undefined' && google.colab.kernel != null) {\n        var comm_promise = google.colab.kernel.comms.open(comm_id)\n        comm_promise.then((comm) => {\n          window.PyViz.comms[comm_id] = comm;\n          if (msg_handler) {\n            var messages = comm.messages[Symbol.asyncIterator]();\n            function processIteratorResult(result) {\n              var message = result.value;\n              var content = {data: message.data};\n              var metadata = message.metadata || {comm_id};\n              var msg = {content, metadata}\n              msg_handler(msg);\n              return messages.next().then(processIteratorResult);\n            }\n            return messages.next().then(processIteratorResult);\n          }\n        }) \n        var sendClosure = (data, metadata, buffers, disposeOnDone) => {\n          return comm_promise.then((comm) => {\n            comm.send(data, metadata, buffers, disposeOnDone);\n          });\n        };\n        var comm = {\n          send: sendClosure\n        };\n      }\n      window.PyViz.comms[comm_id] = comm;\n      return comm;\n    }\n    window.PyViz.comm_manager = new JupyterCommManager();\n    \n\n\nvar JS_MIME_TYPE = 'application/javascript';\nvar HTML_MIME_TYPE = 'text/html';\nvar EXEC_MIME_TYPE = 'application/vnd.holoviews_exec.v0+json';\nvar CLASS_NAME = 'output';\n\n/**\n * Render data to the DOM node\n */\nfunction render(props, node) {\n  var div = document.createElement(\"div\");\n  var script = document.createElement(\"script\");\n  node.appendChild(div);\n  node.appendChild(script);\n}\n\n/**\n * Handle when a new output is added\n */\nfunction handle_add_output(event, handle) {\n  var output_area = handle.output_area;\n  var output = handle.output;\n  if ((output.data == undefined) || (!output.data.hasOwnProperty(EXEC_MIME_TYPE))) {\n    return\n  }\n  var id = output.metadata[EXEC_MIME_TYPE][\"id\"];\n  var toinsert = output_area.element.find(\".\" + CLASS_NAME.split(' ')[0]);\n  if (id !== undefined) {\n    var nchildren = toinsert.length;\n    var html_node = toinsert[nchildren-1].children[0];\n    html_node.innerHTML = output.data[HTML_MIME_TYPE];\n    var scripts = [];\n    var nodelist = html_node.querySelectorAll(\"script\");\n    for (var i in nodelist) {\n      if (nodelist.hasOwnProperty(i)) {\n        scripts.push(nodelist[i])\n      }\n    }\n\n    scripts.forEach( function (oldScript) {\n      var newScript = document.createElement(\"script\");\n      var attrs = [];\n      var nodemap = oldScript.attributes;\n      for (var j in nodemap) {\n        if (nodemap.hasOwnProperty(j)) {\n          attrs.push(nodemap[j])\n        }\n      }\n      attrs.forEach(function(attr) { newScript.setAttribute(attr.name, attr.value) });\n      newScript.appendChild(document.createTextNode(oldScript.innerHTML));\n      oldScript.parentNode.replaceChild(newScript, oldScript);\n    });\n    if (JS_MIME_TYPE in output.data) {\n      toinsert[nchildren-1].children[1].textContent = output.data[JS_MIME_TYPE];\n    }\n    output_area._hv_plot_id = id;\n    if ((window.Bokeh !== undefined) && (id in Bokeh.index)) {\n      window.PyViz.plot_index[id] = Bokeh.index[id];\n    } else {\n      window.PyViz.plot_index[id] = null;\n    }\n  } else if (output.metadata[EXEC_MIME_TYPE][\"server_id\"] !== undefined) {\n    var bk_div = document.createElement(\"div\");\n    bk_div.innerHTML = output.data[HTML_MIME_TYPE];\n    var script_attrs = bk_div.children[0].attributes;\n    for (var i = 0; i < script_attrs.length; i++) {\n      toinsert[toinsert.length - 1].childNodes[1].setAttribute(script_attrs[i].name, script_attrs[i].value);\n    }\n    // store reference to server id on output_area\n    output_area._bokeh_server_id = output.metadata[EXEC_MIME_TYPE][\"server_id\"];\n  }\n}\n\n/**\n * Handle when an output is cleared or removed\n */\nfunction handle_clear_output(event, handle) {\n  var id = handle.cell.output_area._hv_plot_id;\n  var server_id = handle.cell.output_area._bokeh_server_id;\n  if (((id === undefined) || !(id in PyViz.plot_index)) && (server_id !== undefined)) { return; }\n  var comm = window.PyViz.comm_manager.get_client_comm(\"hv-extension-comm\", \"hv-extension-comm\", function () {});\n  if (server_id !== null) {\n    comm.send({event_type: 'server_delete', 'id': server_id});\n    return;\n  } else if (comm !== null) {\n    comm.send({event_type: 'delete', 'id': id});\n  }\n  delete PyViz.plot_index[id];\n  if ((window.Bokeh !== undefined) & (id in window.Bokeh.index)) {\n    var doc = window.Bokeh.index[id].model.document\n    doc.clear();\n    const i = window.Bokeh.documents.indexOf(doc);\n    if (i > -1) {\n      window.Bokeh.documents.splice(i, 1);\n    }\n  }\n}\n\n/**\n * Handle kernel restart event\n */\nfunction handle_kernel_cleanup(event, handle) {\n  delete PyViz.comms[\"hv-extension-comm\"];\n  window.PyViz.plot_index = {}\n}\n\n/**\n * Handle update_display_data messages\n */\nfunction handle_update_output(event, handle) {\n  handle_clear_output(event, {cell: {output_area: handle.output_area}})\n  handle_add_output(event, handle)\n}\n\nfunction register_renderer(events, OutputArea) {\n  function append_mime(data, metadata, element) {\n    // create a DOM node to render to\n    var toinsert = this.create_output_subarea(\n    metadata,\n    CLASS_NAME,\n    EXEC_MIME_TYPE\n    );\n    this.keyboard_manager.register_events(toinsert);\n    // Render to node\n    var props = {data: data, metadata: metadata[EXEC_MIME_TYPE]};\n    render(props, toinsert[0]);\n    element.append(toinsert);\n    return toinsert\n  }\n\n  events.on('output_added.OutputArea', handle_add_output);\n  events.on('output_updated.OutputArea', handle_update_output);\n  events.on('clear_output.CodeCell', handle_clear_output);\n  events.on('delete.Cell', handle_clear_output);\n  events.on('kernel_ready.Kernel', handle_kernel_cleanup);\n\n  OutputArea.prototype.register_mime_type(EXEC_MIME_TYPE, append_mime, {\n    safe: true,\n    index: 0\n  });\n}\n\nif (window.Jupyter !== undefined) {\n  try {\n    var events = require('base/js/events');\n    var OutputArea = require('notebook/js/outputarea').OutputArea;\n    if (OutputArea.prototype.mime_types().indexOf(EXEC_MIME_TYPE) == -1) {\n      register_renderer(events, OutputArea);\n    }\n  } catch(err) {\n  }\n}\n",
      "application/vnd.holoviews_load.v0+json": ""
     },
     "metadata": {},
     "output_type": "display_data"
    },
    {
     "data": {
      "application/vnd.holoviews_exec.v0+json": "",
      "text/html": [
       "<div id='p1004'>\n",
       "  <div id=\"aad89faa-0ad3-41aa-b34f-683064263e12\" data-root-id=\"p1004\" style=\"display: contents;\"></div>\n",
       "</div>\n",
       "<script type=\"application/javascript\">(function(root) {\n",
       "  var docs_json = {\"7e2fbbce-396b-4ccb-9afb-8b6992d07859\":{\"version\":\"3.5.2\",\"title\":\"Bokeh Application\",\"roots\":[{\"type\":\"object\",\"name\":\"panel.models.browser.BrowserInfo\",\"id\":\"p1004\"},{\"type\":\"object\",\"name\":\"panel.models.comm_manager.CommManager\",\"id\":\"p1005\",\"attributes\":{\"plot_id\":\"p1004\",\"comm_id\":\"26dc06f7927c4a43890cdd1b49d09a24\",\"client_comm_id\":\"35ca3aa769914b8e94ff5f9be8e36e40\"}}],\"defs\":[{\"type\":\"model\",\"name\":\"ReactiveHTML1\"},{\"type\":\"model\",\"name\":\"FlexBox1\",\"properties\":[{\"name\":\"align_content\",\"kind\":\"Any\",\"default\":\"flex-start\"},{\"name\":\"align_items\",\"kind\":\"Any\",\"default\":\"flex-start\"},{\"name\":\"flex_direction\",\"kind\":\"Any\",\"default\":\"row\"},{\"name\":\"flex_wrap\",\"kind\":\"Any\",\"default\":\"wrap\"},{\"name\":\"gap\",\"kind\":\"Any\",\"default\":\"\"},{\"name\":\"justify_content\",\"kind\":\"Any\",\"default\":\"flex-start\"}]},{\"type\":\"model\",\"name\":\"FloatPanel1\",\"properties\":[{\"name\":\"config\",\"kind\":\"Any\",\"default\":{\"type\":\"map\"}},{\"name\":\"contained\",\"kind\":\"Any\",\"default\":true},{\"name\":\"position\",\"kind\":\"Any\",\"default\":\"right-top\"},{\"name\":\"offsetx\",\"kind\":\"Any\",\"default\":null},{\"name\":\"offsety\",\"kind\":\"Any\",\"default\":null},{\"name\":\"theme\",\"kind\":\"Any\",\"default\":\"primary\"},{\"name\":\"status\",\"kind\":\"Any\",\"default\":\"normalized\"}]},{\"type\":\"model\",\"name\":\"GridStack1\",\"properties\":[{\"name\":\"mode\",\"kind\":\"Any\",\"default\":\"warn\"},{\"name\":\"ncols\",\"kind\":\"Any\",\"default\":null},{\"name\":\"nrows\",\"kind\":\"Any\",\"default\":null},{\"name\":\"allow_resize\",\"kind\":\"Any\",\"default\":true},{\"name\":\"allow_drag\",\"kind\":\"Any\",\"default\":true},{\"name\":\"state\",\"kind\":\"Any\",\"default\":[]}]},{\"type\":\"model\",\"name\":\"drag1\",\"properties\":[{\"name\":\"slider_width\",\"kind\":\"Any\",\"default\":5},{\"name\":\"slider_color\",\"kind\":\"Any\",\"default\":\"black\"},{\"name\":\"value\",\"kind\":\"Any\",\"default\":50}]},{\"type\":\"model\",\"name\":\"click1\",\"properties\":[{\"name\":\"terminal_output\",\"kind\":\"Any\",\"default\":\"\"},{\"name\":\"debug_name\",\"kind\":\"Any\",\"default\":\"\"},{\"name\":\"clears\",\"kind\":\"Any\",\"default\":0}]},{\"type\":\"model\",\"name\":\"FastWrapper1\",\"properties\":[{\"name\":\"object\",\"kind\":\"Any\",\"default\":null},{\"name\":\"style\",\"kind\":\"Any\",\"default\":null}]},{\"type\":\"model\",\"name\":\"NotificationAreaBase1\",\"properties\":[{\"name\":\"js_events\",\"kind\":\"Any\",\"default\":{\"type\":\"map\"}},{\"name\":\"position\",\"kind\":\"Any\",\"default\":\"bottom-right\"},{\"name\":\"_clear\",\"kind\":\"Any\",\"default\":0}]},{\"type\":\"model\",\"name\":\"NotificationArea1\",\"properties\":[{\"name\":\"js_events\",\"kind\":\"Any\",\"default\":{\"type\":\"map\"}},{\"name\":\"notifications\",\"kind\":\"Any\",\"default\":[]},{\"name\":\"position\",\"kind\":\"Any\",\"default\":\"bottom-right\"},{\"name\":\"_clear\",\"kind\":\"Any\",\"default\":0},{\"name\":\"types\",\"kind\":\"Any\",\"default\":[{\"type\":\"map\",\"entries\":[[\"type\",\"warning\"],[\"background\",\"#ffc107\"],[\"icon\",{\"type\":\"map\",\"entries\":[[\"className\",\"fas fa-exclamation-triangle\"],[\"tagName\",\"i\"],[\"color\",\"white\"]]}]]},{\"type\":\"map\",\"entries\":[[\"type\",\"info\"],[\"background\",\"#007bff\"],[\"icon\",{\"type\":\"map\",\"entries\":[[\"className\",\"fas fa-info-circle\"],[\"tagName\",\"i\"],[\"color\",\"white\"]]}]]}]}]},{\"type\":\"model\",\"name\":\"Notification\",\"properties\":[{\"name\":\"background\",\"kind\":\"Any\",\"default\":null},{\"name\":\"duration\",\"kind\":\"Any\",\"default\":3000},{\"name\":\"icon\",\"kind\":\"Any\",\"default\":null},{\"name\":\"message\",\"kind\":\"Any\",\"default\":\"\"},{\"name\":\"notification_type\",\"kind\":\"Any\",\"default\":null},{\"name\":\"_destroyed\",\"kind\":\"Any\",\"default\":false}]},{\"type\":\"model\",\"name\":\"TemplateActions1\",\"properties\":[{\"name\":\"open_modal\",\"kind\":\"Any\",\"default\":0},{\"name\":\"close_modal\",\"kind\":\"Any\",\"default\":0}]},{\"type\":\"model\",\"name\":\"BootstrapTemplateActions1\",\"properties\":[{\"name\":\"open_modal\",\"kind\":\"Any\",\"default\":0},{\"name\":\"close_modal\",\"kind\":\"Any\",\"default\":0}]},{\"type\":\"model\",\"name\":\"TemplateEditor1\",\"properties\":[{\"name\":\"layout\",\"kind\":\"Any\",\"default\":[]}]},{\"type\":\"model\",\"name\":\"MaterialTemplateActions1\",\"properties\":[{\"name\":\"open_modal\",\"kind\":\"Any\",\"default\":0},{\"name\":\"close_modal\",\"kind\":\"Any\",\"default\":0}]},{\"type\":\"model\",\"name\":\"ReactiveESM1\"},{\"type\":\"model\",\"name\":\"JSComponent1\"},{\"type\":\"model\",\"name\":\"ReactComponent1\"},{\"type\":\"model\",\"name\":\"AnyWidgetComponent1\"},{\"type\":\"model\",\"name\":\"request_value1\",\"properties\":[{\"name\":\"fill\",\"kind\":\"Any\",\"default\":\"none\"},{\"name\":\"_synced\",\"kind\":\"Any\",\"default\":null},{\"name\":\"_request_sync\",\"kind\":\"Any\",\"default\":0}]}]}};\n",
       "  var render_items = [{\"docid\":\"7e2fbbce-396b-4ccb-9afb-8b6992d07859\",\"roots\":{\"p1004\":\"aad89faa-0ad3-41aa-b34f-683064263e12\"},\"root_ids\":[\"p1004\"]}];\n",
       "  var docs = Object.values(docs_json)\n",
       "  if (!docs) {\n",
       "    return\n",
       "  }\n",
       "  const py_version = docs[0].version.replace('rc', '-rc.').replace('.dev', '-dev.')\n",
       "  async function embed_document(root) {\n",
       "    var Bokeh = get_bokeh(root)\n",
       "    await Bokeh.embed.embed_items_notebook(docs_json, render_items);\n",
       "    for (const render_item of render_items) {\n",
       "      for (const root_id of render_item.root_ids) {\n",
       "\tconst id_el = document.getElementById(root_id)\n",
       "\tif (id_el.children.length && id_el.children[0].hasAttribute('data-root-id')) {\n",
       "\t  const root_el = id_el.children[0]\n",
       "\t  root_el.id = root_el.id + '-rendered'\n",
       "\t  for (const child of root_el.children) {\n",
       "            // Ensure JupyterLab does not capture keyboard shortcuts\n",
       "            // see: https://jupyterlab.readthedocs.io/en/4.1.x/extension/notebook.html#keyboard-interaction-model\n",
       "\t    child.setAttribute('data-lm-suppress-shortcuts', 'true')\n",
       "\t  }\n",
       "\t}\n",
       "      }\n",
       "    }\n",
       "  }\n",
       "  function get_bokeh(root) {\n",
       "    if (root.Bokeh === undefined) {\n",
       "      return null\n",
       "    } else if (root.Bokeh.version !== py_version) {\n",
       "      if (root.Bokeh.versions === undefined || !root.Bokeh.versions.has(py_version)) {\n",
       "\treturn null\n",
       "      }\n",
       "      return root.Bokeh.versions.get(py_version);\n",
       "    } else if (root.Bokeh.version === py_version) {\n",
       "      return root.Bokeh\n",
       "    }\n",
       "    return null\n",
       "  }\n",
       "  function is_loaded(root) {\n",
       "    var Bokeh = get_bokeh(root)\n",
       "    return (Bokeh != null && Bokeh.Panel !== undefined)\n",
       "  }\n",
       "  if (is_loaded(root)) {\n",
       "    embed_document(root);\n",
       "  } else {\n",
       "    var attempts = 0;\n",
       "    var timer = setInterval(function(root) {\n",
       "      if (is_loaded(root)) {\n",
       "        clearInterval(timer);\n",
       "        embed_document(root);\n",
       "      } else if (document.readyState == \"complete\") {\n",
       "        attempts++;\n",
       "        if (attempts > 200) {\n",
       "          clearInterval(timer);\n",
       "\t  var Bokeh = get_bokeh(root)\n",
       "\t  if (Bokeh == null || Bokeh.Panel == null) {\n",
       "            console.warn(\"Panel: ERROR: Unable to run Panel code because Bokeh or Panel library is missing\");\n",
       "\t  } else {\n",
       "\t    console.warn(\"Panel: WARNING: Attempting to render but not all required libraries could be resolved.\")\n",
       "\t    embed_document(root)\n",
       "\t  }\n",
       "        }\n",
       "      }\n",
       "    }, 25, root)\n",
       "  }\n",
       "})(window);</script>"
      ]
     },
     "metadata": {
      "application/vnd.holoviews_exec.v0+json": {
       "id": "p1004"
      }
     },
     "output_type": "display_data"
    }
   ],
   "source": [
    "# Dependencies and Setup\n",
    "import hvplot.pandas\n",
    "import pandas as pd\n",
    "import requests\n",
    "\n",
    "# Import API key\n",
    "from api_keys import geoapify_key"
   ]
  },
  {
   "cell_type": "code",
   "execution_count": 4,
   "metadata": {},
   "outputs": [
    {
     "data": {
      "application/vnd.microsoft.datawrangler.viewer.v0+json": {
       "columns": [
        {
         "name": "index",
         "rawType": "int64",
         "type": "integer"
        },
        {
         "name": "City_ID",
         "rawType": "int64",
         "type": "integer"
        },
        {
         "name": "City",
         "rawType": "object",
         "type": "string"
        },
        {
         "name": "Lat",
         "rawType": "float64",
         "type": "float"
        },
        {
         "name": "Lng",
         "rawType": "float64",
         "type": "float"
        },
        {
         "name": "Max Temp",
         "rawType": "float64",
         "type": "float"
        },
        {
         "name": "Humidity",
         "rawType": "int64",
         "type": "integer"
        },
        {
         "name": "Cloudiness",
         "rawType": "int64",
         "type": "integer"
        },
        {
         "name": "Wind Speed",
         "rawType": "float64",
         "type": "float"
        },
        {
         "name": "Country",
         "rawType": "object",
         "type": "string"
        },
        {
         "name": "Date",
         "rawType": "object",
         "type": "string"
        }
       ],
       "conversionMethod": "pd.DataFrame",
       "ref": "4c9dda03-74c3-4e87-85b8-b4ba3a5c9872",
       "rows": [
        [
         "0",
         "0",
         "bethel",
         "41.3712",
         "-73.414",
         "39.29",
         "87",
         "100",
         "11.5",
         "US",
         "2025-04-12"
        ],
        [
         "1",
         "1",
         "vinh",
         "18.6667",
         "105.6667",
         "66.97",
         "88",
         "100",
         "5.68",
         "VN",
         "2025-04-12"
        ],
        [
         "2",
         "2",
         "stanley",
         "54.868",
         "-1.6985",
         "57.52",
         "61",
         "0",
         "5.75",
         "GB",
         "2025-04-12"
        ],
        [
         "3",
         "3",
         "afaahiti",
         "-17.75",
         "-149.2833",
         "77.47",
         "77",
         "56",
         "2.26",
         "PF",
         "2025-04-12"
        ],
        [
         "4",
         "4",
         "grytviken",
         "-54.2811",
         "-36.5092",
         "45.91",
         "84",
         "63",
         "16.75",
         "GS",
         "2025-04-12"
        ]
       ],
       "shape": {
        "columns": 10,
        "rows": 5
       }
      },
      "text/html": [
       "<div>\n",
       "<style scoped>\n",
       "    .dataframe tbody tr th:only-of-type {\n",
       "        vertical-align: middle;\n",
       "    }\n",
       "\n",
       "    .dataframe tbody tr th {\n",
       "        vertical-align: top;\n",
       "    }\n",
       "\n",
       "    .dataframe thead th {\n",
       "        text-align: right;\n",
       "    }\n",
       "</style>\n",
       "<table border=\"1\" class=\"dataframe\">\n",
       "  <thead>\n",
       "    <tr style=\"text-align: right;\">\n",
       "      <th></th>\n",
       "      <th>City_ID</th>\n",
       "      <th>City</th>\n",
       "      <th>Lat</th>\n",
       "      <th>Lng</th>\n",
       "      <th>Max Temp</th>\n",
       "      <th>Humidity</th>\n",
       "      <th>Cloudiness</th>\n",
       "      <th>Wind Speed</th>\n",
       "      <th>Country</th>\n",
       "      <th>Date</th>\n",
       "    </tr>\n",
       "  </thead>\n",
       "  <tbody>\n",
       "    <tr>\n",
       "      <th>0</th>\n",
       "      <td>0</td>\n",
       "      <td>bethel</td>\n",
       "      <td>41.3712</td>\n",
       "      <td>-73.4140</td>\n",
       "      <td>39.29</td>\n",
       "      <td>87</td>\n",
       "      <td>100</td>\n",
       "      <td>11.50</td>\n",
       "      <td>US</td>\n",
       "      <td>2025-04-12</td>\n",
       "    </tr>\n",
       "    <tr>\n",
       "      <th>1</th>\n",
       "      <td>1</td>\n",
       "      <td>vinh</td>\n",
       "      <td>18.6667</td>\n",
       "      <td>105.6667</td>\n",
       "      <td>66.97</td>\n",
       "      <td>88</td>\n",
       "      <td>100</td>\n",
       "      <td>5.68</td>\n",
       "      <td>VN</td>\n",
       "      <td>2025-04-12</td>\n",
       "    </tr>\n",
       "    <tr>\n",
       "      <th>2</th>\n",
       "      <td>2</td>\n",
       "      <td>stanley</td>\n",
       "      <td>54.8680</td>\n",
       "      <td>-1.6985</td>\n",
       "      <td>57.52</td>\n",
       "      <td>61</td>\n",
       "      <td>0</td>\n",
       "      <td>5.75</td>\n",
       "      <td>GB</td>\n",
       "      <td>2025-04-12</td>\n",
       "    </tr>\n",
       "    <tr>\n",
       "      <th>3</th>\n",
       "      <td>3</td>\n",
       "      <td>afaahiti</td>\n",
       "      <td>-17.7500</td>\n",
       "      <td>-149.2833</td>\n",
       "      <td>77.47</td>\n",
       "      <td>77</td>\n",
       "      <td>56</td>\n",
       "      <td>2.26</td>\n",
       "      <td>PF</td>\n",
       "      <td>2025-04-12</td>\n",
       "    </tr>\n",
       "    <tr>\n",
       "      <th>4</th>\n",
       "      <td>4</td>\n",
       "      <td>grytviken</td>\n",
       "      <td>-54.2811</td>\n",
       "      <td>-36.5092</td>\n",
       "      <td>45.91</td>\n",
       "      <td>84</td>\n",
       "      <td>63</td>\n",
       "      <td>16.75</td>\n",
       "      <td>GS</td>\n",
       "      <td>2025-04-12</td>\n",
       "    </tr>\n",
       "  </tbody>\n",
       "</table>\n",
       "</div>"
      ],
      "text/plain": [
       "   City_ID       City      Lat       Lng  Max Temp  Humidity  Cloudiness  \\\n",
       "0        0     bethel  41.3712  -73.4140     39.29        87         100   \n",
       "1        1       vinh  18.6667  105.6667     66.97        88         100   \n",
       "2        2    stanley  54.8680   -1.6985     57.52        61           0   \n",
       "3        3   afaahiti -17.7500 -149.2833     77.47        77          56   \n",
       "4        4  grytviken -54.2811  -36.5092     45.91        84          63   \n",
       "\n",
       "   Wind Speed Country        Date  \n",
       "0       11.50      US  2025-04-12  \n",
       "1        5.68      VN  2025-04-12  \n",
       "2        5.75      GB  2025-04-12  \n",
       "3        2.26      PF  2025-04-12  \n",
       "4       16.75      GS  2025-04-12  "
      ]
     },
     "execution_count": 4,
     "metadata": {},
     "output_type": "execute_result"
    }
   ],
   "source": [
    "# Load the CSV file created in Part 1 into a Pandas DataFrame\n",
    "city_data_df = pd.read_csv(\"output_data/cities.csv\")\n",
    "\n",
    "# Display sample data\n",
    "city_data_df.head()"
   ]
  },
  {
   "cell_type": "markdown",
   "metadata": {},
   "source": [
    "---\n",
    "\n",
    "### Step 1: Create a map that displays a point for every city in the `city_data_df` DataFrame. The size of the point should be the humidity in each city."
   ]
  },
  {
   "cell_type": "code",
   "execution_count": 26,
   "metadata": {},
   "outputs": [
    {
     "data": {},
     "metadata": {},
     "output_type": "display_data"
    },
    {
     "data": {
      "application/vnd.holoviews_exec.v0+json": "",
      "text/html": [
       "<div id='p1963'>\n",
       "  <div id=\"b2e5ed47-9605-4168-a072-be2d25835e29\" data-root-id=\"p1963\" style=\"display: contents;\"></div>\n",
       "</div>\n",
       "<script type=\"application/javascript\">(function(root) {\n",
       "  var docs_json = {\"cf1badf6-75cb-4032-ad7d-abf4e9156275\":{\"version\":\"3.5.2\",\"title\":\"Bokeh Application\",\"roots\":[{\"type\":\"object\",\"name\":\"Row\",\"id\":\"p1963\",\"attributes\":{\"name\":\"Row02695\",\"tags\":[\"embedded\"],\"stylesheets\":[\"\\n:host(.pn-loading):before, .pn-loading:before {\\n  background-color: #c3c3c3;\\n  mask-size: auto calc(min(50%, 400px));\\n  -webkit-mask-size: auto calc(min(50%, 400px));\\n}\",{\"type\":\"object\",\"name\":\"ImportedStyleSheet\",\"id\":\"p1966\",\"attributes\":{\"url\":\"https://cdn.holoviz.org/panel/1.5.2/dist/css/loading.css\"}},{\"type\":\"object\",\"name\":\"ImportedStyleSheet\",\"id\":\"p2079\",\"attributes\":{\"url\":\"https://cdn.holoviz.org/panel/1.5.2/dist/css/listpanel.css\"}},{\"type\":\"object\",\"name\":\"ImportedStyleSheet\",\"id\":\"p1964\",\"attributes\":{\"url\":\"https://cdn.holoviz.org/panel/1.5.2/dist/bundled/theme/default.css\"}},{\"type\":\"object\",\"name\":\"ImportedStyleSheet\",\"id\":\"p1965\",\"attributes\":{\"url\":\"https://cdn.holoviz.org/panel/1.5.2/dist/bundled/theme/native.css\"}}],\"margin\":0,\"sizing_mode\":\"stretch_width\",\"align\":\"start\",\"children\":[{\"type\":\"object\",\"name\":\"Spacer\",\"id\":\"p1967\",\"attributes\":{\"name\":\"HSpacer02701\",\"stylesheets\":[\"\\n:host(.pn-loading):before, .pn-loading:before {\\n  background-color: #c3c3c3;\\n  mask-size: auto calc(min(50%, 400px));\\n  -webkit-mask-size: auto calc(min(50%, 400px));\\n}\",{\"id\":\"p1966\"},{\"id\":\"p1964\"},{\"id\":\"p1965\"}],\"margin\":0,\"sizing_mode\":\"stretch_width\",\"align\":\"start\"}},{\"type\":\"object\",\"name\":\"Figure\",\"id\":\"p2020\",\"attributes\":{\"width\":null,\"height\":null,\"margin\":[5,10],\"sizing_mode\":\"fixed\",\"align\":\"start\",\"x_range\":{\"type\":\"object\",\"name\":\"Range1d\",\"id\":\"p1983\",\"attributes\":{\"tags\":[[[\"Longitude\",null]],[]],\"start\":-23595724.412922144,\"end\":23698539.094618812,\"reset_start\":-23595724.412922144,\"reset_end\":23698539.094618812,\"min_interval\":5}},\"y_range\":{\"type\":\"object\",\"name\":\"Range1d\",\"id\":\"p1984\",\"attributes\":{\"tags\":[[[\"Latitude\",null]],{\"type\":\"map\",\"entries\":[[\"invert_yaxis\",false],[\"autorange\",false]]}],\"start\":-8530074.875462698,\"end\":15693717.914658168,\"reset_start\":-8530074.875462698,\"reset_end\":15693717.914658168,\"min_interval\":5}},\"x_scale\":{\"type\":\"object\",\"name\":\"LinearScale\",\"id\":\"p2030\"},\"y_scale\":{\"type\":\"object\",\"name\":\"LinearScale\",\"id\":\"p2031\"},\"title\":{\"type\":\"object\",\"name\":\"Title\",\"id\":\"p2023\",\"attributes\":{\"text_color\":\"black\",\"text_font_size\":\"12pt\"}},\"renderers\":[{\"type\":\"object\",\"name\":\"TileRenderer\",\"id\":\"p2053\",\"attributes\":{\"level\":\"underlay\",\"tile_source\":{\"type\":\"object\",\"name\":\"WMTSTileSource\",\"id\":\"p2049\",\"attributes\":{\"url\":\"https://c.tile.openstreetmap.org/{Z}/{X}/{Y}.png\",\"attribution\":\"&copy; <a href=\\\"https://www.openstreetmap.org/copyright\\\">OpenStreetMap</a> contributors\"}}}},{\"type\":\"object\",\"name\":\"GlyphRenderer\",\"id\":\"p2069\",\"attributes\":{\"name\":\"color\",\"data_source\":{\"type\":\"object\",\"name\":\"ColumnDataSource\",\"id\":\"p2058\",\"attributes\":{\"selected\":{\"type\":\"object\",\"name\":\"Selection\",\"id\":\"p2059\",\"attributes\":{\"indices\":[],\"line_indices\":[]}},\"selection_policy\":{\"type\":\"object\",\"name\":\"UnionRenderers\",\"id\":\"p2060\"},\"data\":{\"type\":\"map\",\"entries\":[[\"Lng\",{\"type\":\"ndarray\",\"array\":{\"type\":\"bytes\",\"data\":\"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\"},\"shape\":[549],\"dtype\":\"float64\",\"order\":\"little\"}],[\"Lat\",{\"type\":\"ndarray\",\"array\":{\"type\":\"bytes\",\"data\":\"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\"},\"shape\":[549],\"dtype\":\"float64\",\"order\":\"little\"}],[\"City\",[\"bethel\",\"vinh\",\"stanley\",\"afaahiti\",\"grytviken\",\"anadyr\",\"jamestown\",\"edinburgh of the seven seas\",\"klyuchi\",\"port-aux-francais\",\"kroya\",\"nova sintra\",\"waitangi\",\"kuta\",\"pisco\",\"margaret river\",\"hamilton\",\"hammerfest\",\"thompson\",\"wailua homesteads\",\"isafjordur\",\"bilibino\",\"blackmans bay\",\"ilulissat\",\"adamstown\",\"lebu\",\"aoulef\",\"vorgashor\",\"avarua\",\"vilyuchinsk\",\"yichang\",\"ribeira grande\",\"flin flon\",\"santa ana\",\"albany\",\"christchurch\",\"akureyri\",\"lukolela\",\"mukalla\",\"la ronge\",\"lobujya\",\"soe\",\"severo-vostotchnyi bank\",\"iqaluit\",\"arno\",\"kupang\",\"lazaro cardenas\",\"la passe\",\"invercargill\",\"vadso\",\"puerto natales\",\"rio grande\",\"punta arenas\",\"badger\",\"aberglasslyn\",\"chinchilla\",\"port augusta\",\"sinabang\",\"kiunga\",\"st. john's\",\"port mathurin\",\"fortuna\",\"tazovsky\",\"viana do castelo\",\"mishkino\",\"fisterra\",\"rusape\",\"whitehorse\",\"prabumulih\",\"naxos\",\"constantia\",\"puerto ayora\",\"nguigmi\",\"mega\",\"kargil\",\"hawaiian paradise park\",\"genhe\",\"rabo de peixe\",\"ryotsu-minato\",\"kristiansund\",\"port hedland\",\"antalaha\",\"ushuaia\",\"west island\",\"port lincoln\",\"yellowknife\",\"manakara\",\"ubinskoye\",\"poyarkovo\",\"tadine\",\"xilin hot\",\"hermanus\",\"olyokminsk\",\"saipan\",\"grand-lahou\",\"taoudenni\",\"urzhar\",\"port alfred\",\"longyearbyen\",\"uturoa\",\"kuna\",\"eyl\",\"aasiaat\",\"nizhniy kuranakh\",\"broken hill\",\"la'ie\",\"griffith\",\"huilong\",\"sarkand\",\"ogulin\",\"juan griego\",\"strelka\",\"ancud\",\"noumea\",\"hotan\",\"olonkinbyen\",\"acajutla\",\"san patricio\",\"san pedro pochutla\",\"galliano\",\"gerash\",\"fale old settlement\",\"atafu village\",\"hasaki\",\"banda aceh\",\"kotel'nikovo\",\"palmas\",\"magadan\",\"navolato\",\"popondetta\",\"ghat\",\"urengoy\",\"puerto asis\",\"east london\",\"adolfo lopez mateos\",\"tura\",\"island harbour\",\"chonchi\",\"mandalgovi\",\"college\",\"farrokh shahr\",\"maraba\",\"labrador city\",\"bathurst\",\"peskovka\",\"narayanpet\",\"sabzevar\",\"al wafrah\",\"makinsk\",\"safford\",\"swakopmund\",\"kharp\",\"crucecita\",\"mount gambier\",\"terrace\",\"sao gabriel da cachoeira\",\"talnakh\",\"tarnogskiy gorodok\",\"choyr\",\"tiksi\",\"alice springs\",\"cannonvale\",\"yei\",\"cole harbour\",\"minas de marcona\",\"omutinskiy\",\"saint-leu\",\"vallegrande\",\"bima\",\"el galpon\",\"barah\",\"queenstown\",\"sitka\",\"tena\",\"mahebourg\",\"papatowai\",\"esquina\",\"utrik\",\"viiala\",\"bria\",\"wenshui\",\"petropavlovsk-kamchatsky\",\"naryshkino\",\"sortavala\",\"trapani\",\"kingston\",\"acarau\",\"san antonio de pale\",\"port elizabeth\",\"hanzhong\",\"penzance\",\"ust-nera\",\"lihue\",\"kodiak\",\"westport\",\"plouzane\",\"selfoss\",\"bakani\",\"rongelap\",\"kapuskasing\",\"mitu\",\"amga\",\"sao vicente\",\"maloye ganyushkino\",\"kapa'a\",\"nagqu\",\"masterton\",\"palikir - national government center\",\"codrington\",\"korocha\",\"geraldton\",\"bangar\",\"lensk\",\"vila franca do campo\",\"yreka\",\"nizhneudinsk\",\"udachny\",\"nar'yan-mar\",\"bukama\",\"bredasdorp\",\"xiongzhou\",\"ta`u\",\"pathein\",\"katsina-ala\",\"gizo\",\"georgetown\",\"douz\",\"koscierzyna\",\"shalqar\",\"tromso\",\"cambria\",\"magole\",\"palmer\",\"pakenham\",\"carnarvon\",\"churachandpur\",\"pitimbu\",\"laikit, laikit ii (dimembe)\",\"kisangani\",\"yunyang\",\"yabassi\",\"ribeira brava\",\"haiku-pauwela\",\"takoradi\",\"huarmey\",\"ebaye\",\"coron\",\"devils lake\",\"vernon\",\"kloulklubed\",\"thunder bay\",\"ivdel'\",\"gadzhiyevo\",\"crane\",\"brookings\",\"poronaysk\",\"taunggyi\",\"mejit\",\"coquimbo\",\"chui\",\"iskateley\",\"baissa\",\"fort bragg\",\"mahibadhoo\",\"east naples\",\"orting\",\"nouadhibou\",\"colonia\",\"tahta\",\"la libertad\",\"pingliang\",\"valdivia\",\"vanimo\",\"flying fish cove\",\"kyren\",\"shaowu\",\"northam\",\"mocimboa\",\"pestretsy\",\"macapa\",\"port blair\",\"hithadhoo\",\"korla\",\"susuman\",\"san luis de la loma\",\"mount isa\",\"motueka\",\"lucheng\",\"prien am chiemsee\",\"barcelos\",\"nuevo ideal\",\"malanje\",\"yanbu\",\"onega\",\"pokachi\",\"prince rupert\",\"weno\",\"high river\",\"bentiu\",\"sikonge\",\"mumbwa\",\"hastings\",\"playas\",\"qaqortoq\",\"nema\",\"hadibu\",\"alotau\",\"kilindoni\",\"saint-philippe\",\"mpika\",\"el calafate\",\"kone\",\"dzuunharaa\",\"caraballeda\",\"outjo\",\"portland\",\"saacow\",\"bodaybo\",\"taksimo\",\"taroudant\",\"pemangkat\",\"bogota\",\"tazacorte\",\"viedma\",\"karuzi\",\"nchelenge\",\"wewak\",\"bamboo flat\",\"enriquillo\",\"constitucion\",\"port shepstone\",\"nanao\",\"puerto baquerizo moreno\",\"maddagiri\",\"junagadh\",\"uliastay\",\"yanam\",\"parauna\",\"kavaratti\",\"benghazi\",\"revda\",\"machico\",\"kavieng\",\"shenjiamen\",\"port macquarie\",\"paracuru\",\"inhambane\",\"salinopolis\",\"remire-montjoly\",\"juneau\",\"catio\",\"ryzdvyanyy\",\"hofors\",\"tonj\",\"opuwo\",\"mbanza-ngungu\",\"arkhangel'sk\",\"al fuwayliq\",\"basmat\",\"thap khlo\",\"aykhal\",\"faya-largeau\",\"paramonga\",\"andergrove\",\"piracuruca\",\"boa vista\",\"holualoa\",\"taulaga\",\"yozgat\",\"smithers\",\"musaffah\",\"ostrovskoye\",\"zhezqazghan\",\"nili\",\"byron bay\",\"luderitz\",\"istaravshan\",\"pangody\",\"makushino\",\"gaspe\",\"dudinka\",\"sao joao da barra\",\"sola\",\"antsiranana\",\"kununurra\",\"chibougamau\",\"baki\",\"sept-iles\",\"sena madureira\",\"cheremukhovo\",\"tual\",\"khovd\",\"niquero\",\"katsuura\",\"nantucket\",\"bulnes\",\"obo\",\"zabaykal'sk\",\"bojnurd\",\"callao\",\"sao luis de montes belos\",\"myitkyina\",\"kimbe\",\"turgenevo\",\"mahikeng\",\"kourou\",\"leninskoye\",\"lamar\",\"mata-utu\",\"walvis bay\",\"margate\",\"pindushi\",\"guerrero negro\",\"zaysan\",\"plastun\",\"pochinok\",\"chadron\",\"moose jaw\",\"tolanaro\",\"formosa do rio preto\",\"gebeit\",\"amahai\",\"baruun-urt\",\"suyo\",\"yomju-up\",\"along\",\"qulsary\",\"choibalsan\",\"lingcheng\",\"elista\",\"mahina\",\"arraial do cabo\",\"dej\",\"bathsheba\",\"yulinshi\",\"tommot\",\"rodolfo sanchez taboada\",\"tsengel\",\"san pablo villa de mitla\",\"plettenberg bay\",\"luckeesarai\",\"aneho\",\"sisimiut\",\"san rafael\",\"mossel bay\",\"seydisehir\",\"tocopilla\",\"hirara\",\"nova vicosa\",\"ulladulla\",\"grand falls-windsor\",\"bonthe\",\"egilsstadir\",\"vredendal\",\"ontario\",\"birao\",\"zaragoza\",\"zhaotong\",\"alfenas\",\"cidade velha\",\"vylkove\",\"dapchi\",\"timimoun\",\"beledweyne\",\"yuzhno-kurilsk\",\"astara\",\"al hazm\",\"st. paul\",\"mbanza kongo\",\"boden\",\"meadow lake\",\"kailua-kona\",\"las lomitas\",\"ban huai thalaeng\",\"zvolen\",\"hopelchen\",\"hampton bays\",\"talara\",\"puerto santa\",\"ciudad melchor muzquiz\",\"sudak\",\"sumbawa besar\",\"mokolo\",\"anaconda\",\"happy valley-goose bay\",\"linfen\",\"kletskaya\",\"riscani\",\"warrenton\",\"pedernales\",\"tomatlan\",\"suleja\",\"enewetak\",\"kaihua\",\"mermoz boabab\",\"touros\",\"bardai\",\"howard springs\",\"veraval\",\"tekkali\",\"victorica\",\"buchanan\",\"bontang\",\"taber\",\"chelno-vershiny\",\"verkhnevilyuysk\",\"saint-joseph\",\"topolobampo\",\"mana\",\"laguna\",\"maceio\",\"kruisfontein\",\"sao jose da coroa grande\",\"mullovka\",\"strezhevoy\",\"knyaze-volkonskoye\",\"pacific grove\",\"trincomalee\",\"bozoum\",\"waingapu\",\"concepcion\",\"severo-yeniseyskiy\",\"mao\",\"nemuro\",\"altai\",\"muynoq\",\"pavlodar\",\"murghob\",\"kalat\",\"mil'kovo\",\"brokopondo\",\"karakol\",\"the pas\",\"mando\",\"port douglas\",\"capao da canoa\",\"vodnyy\",\"manicore\",\"vorkuta\",\"oranjemund\",\"praia da vitoria\",\"ingeniero jacobacci\",\"petrovsk-zabaykal'skiy\",\"lagoa formosa\",\"okha\",\"zaozersk\",\"windhoek\",\"cabedelo\",\"kerikeri\"]],[\"Humidity\",{\"type\":\"ndarray\",\"array\":{\"type\":\"bytes\",\"data\":\"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\"},\"shape\":[549],\"dtype\":\"int32\",\"order\":\"little\"}],[\"color\",[\"bethel\",\"vinh\",\"stanley\",\"afaahiti\",\"grytviken\",\"anadyr\",\"jamestown\",\"edinburgh of the seven seas\",\"klyuchi\",\"port-aux-francais\",\"kroya\",\"nova sintra\",\"waitangi\",\"kuta\",\"pisco\",\"margaret river\",\"hamilton\",\"hammerfest\",\"thompson\",\"wailua homesteads\",\"isafjordur\",\"bilibino\",\"blackmans bay\",\"ilulissat\",\"adamstown\",\"lebu\",\"aoulef\",\"vorgashor\",\"avarua\",\"vilyuchinsk\",\"yichang\",\"ribeira grande\",\"flin flon\",\"santa ana\",\"albany\",\"christchurch\",\"akureyri\",\"lukolela\",\"mukalla\",\"la ronge\",\"lobujya\",\"soe\",\"severo-vostotchnyi bank\",\"iqaluit\",\"arno\",\"kupang\",\"lazaro cardenas\",\"la passe\",\"invercargill\",\"vadso\",\"puerto natales\",\"rio grande\",\"punta arenas\",\"badger\",\"aberglasslyn\",\"chinchilla\",\"port augusta\",\"sinabang\",\"kiunga\",\"st. john's\",\"port mathurin\",\"fortuna\",\"tazovsky\",\"viana do castelo\",\"mishkino\",\"fisterra\",\"rusape\",\"whitehorse\",\"prabumulih\",\"naxos\",\"constantia\",\"puerto ayora\",\"nguigmi\",\"mega\",\"kargil\",\"hawaiian paradise park\",\"genhe\",\"rabo de peixe\",\"ryotsu-minato\",\"kristiansund\",\"port hedland\",\"antalaha\",\"ushuaia\",\"west island\",\"port lincoln\",\"yellowknife\",\"manakara\",\"ubinskoye\",\"poyarkovo\",\"tadine\",\"xilin hot\",\"hermanus\",\"olyokminsk\",\"saipan\",\"grand-lahou\",\"taoudenni\",\"urzhar\",\"port alfred\",\"longyearbyen\",\"uturoa\",\"kuna\",\"eyl\",\"aasiaat\",\"nizhniy kuranakh\",\"broken hill\",\"la'ie\",\"griffith\",\"huilong\",\"sarkand\",\"ogulin\",\"juan griego\",\"strelka\",\"ancud\",\"noumea\",\"hotan\",\"olonkinbyen\",\"acajutla\",\"san patricio\",\"san pedro pochutla\",\"galliano\",\"gerash\",\"fale old settlement\",\"atafu village\",\"hasaki\",\"banda aceh\",\"kotel'nikovo\",\"palmas\",\"magadan\",\"navolato\",\"popondetta\",\"ghat\",\"urengoy\",\"puerto asis\",\"east london\",\"adolfo lopez mateos\",\"tura\",\"island harbour\",\"chonchi\",\"mandalgovi\",\"college\",\"farrokh shahr\",\"maraba\",\"labrador city\",\"bathurst\",\"peskovka\",\"narayanpet\",\"sabzevar\",\"al wafrah\",\"makinsk\",\"safford\",\"swakopmund\",\"kharp\",\"crucecita\",\"mount gambier\",\"terrace\",\"sao gabriel da cachoeira\",\"talnakh\",\"tarnogskiy gorodok\",\"choyr\",\"tiksi\",\"alice springs\",\"cannonvale\",\"yei\",\"cole harbour\",\"minas de marcona\",\"omutinskiy\",\"saint-leu\",\"vallegrande\",\"bima\",\"el galpon\",\"barah\",\"queenstown\",\"sitka\",\"tena\",\"mahebourg\",\"papatowai\",\"esquina\",\"utrik\",\"viiala\",\"bria\",\"wenshui\",\"petropavlovsk-kamchatsky\",\"naryshkino\",\"sortavala\",\"trapani\",\"kingston\",\"acarau\",\"san antonio de pale\",\"port elizabeth\",\"hanzhong\",\"penzance\",\"ust-nera\",\"lihue\",\"kodiak\",\"westport\",\"plouzane\",\"selfoss\",\"bakani\",\"rongelap\",\"kapuskasing\",\"mitu\",\"amga\",\"sao vicente\",\"maloye ganyushkino\",\"kapa'a\",\"nagqu\",\"masterton\",\"palikir - national government center\",\"codrington\",\"korocha\",\"geraldton\",\"bangar\",\"lensk\",\"vila franca do campo\",\"yreka\",\"nizhneudinsk\",\"udachny\",\"nar'yan-mar\",\"bukama\",\"bredasdorp\",\"xiongzhou\",\"ta`u\",\"pathein\",\"katsina-ala\",\"gizo\",\"georgetown\",\"douz\",\"koscierzyna\",\"shalqar\",\"tromso\",\"cambria\",\"magole\",\"palmer\",\"pakenham\",\"carnarvon\",\"churachandpur\",\"pitimbu\",\"laikit, laikit ii (dimembe)\",\"kisangani\",\"yunyang\",\"yabassi\",\"ribeira brava\",\"haiku-pauwela\",\"takoradi\",\"huarmey\",\"ebaye\",\"coron\",\"devils lake\",\"vernon\",\"kloulklubed\",\"thunder bay\",\"ivdel'\",\"gadzhiyevo\",\"crane\",\"brookings\",\"poronaysk\",\"taunggyi\",\"mejit\",\"coquimbo\",\"chui\",\"iskateley\",\"baissa\",\"fort bragg\",\"mahibadhoo\",\"east naples\",\"orting\",\"nouadhibou\",\"colonia\",\"tahta\",\"la libertad\",\"pingliang\",\"valdivia\",\"vanimo\",\"flying fish cove\",\"kyren\",\"shaowu\",\"northam\",\"mocimboa\",\"pestretsy\",\"macapa\",\"port blair\",\"hithadhoo\",\"korla\",\"susuman\",\"san luis de la loma\",\"mount isa\",\"motueka\",\"lucheng\",\"prien am chiemsee\",\"barcelos\",\"nuevo ideal\",\"malanje\",\"yanbu\",\"onega\",\"pokachi\",\"prince rupert\",\"weno\",\"high river\",\"bentiu\",\"sikonge\",\"mumbwa\",\"hastings\",\"playas\",\"qaqortoq\",\"nema\",\"hadibu\",\"alotau\",\"kilindoni\",\"saint-philippe\",\"mpika\",\"el calafate\",\"kone\",\"dzuunharaa\",\"caraballeda\",\"outjo\",\"portland\",\"saacow\",\"bodaybo\",\"taksimo\",\"taroudant\",\"pemangkat\",\"bogota\",\"tazacorte\",\"viedma\",\"karuzi\",\"nchelenge\",\"wewak\",\"bamboo flat\",\"enriquillo\",\"constitucion\",\"port shepstone\",\"nanao\",\"puerto baquerizo moreno\",\"maddagiri\",\"junagadh\",\"uliastay\",\"yanam\",\"parauna\",\"kavaratti\",\"benghazi\",\"revda\",\"machico\",\"kavieng\",\"shenjiamen\",\"port macquarie\",\"paracuru\",\"inhambane\",\"salinopolis\",\"remire-montjoly\",\"juneau\",\"catio\",\"ryzdvyanyy\",\"hofors\",\"tonj\",\"opuwo\",\"mbanza-ngungu\",\"arkhangel'sk\",\"al fuwayliq\",\"basmat\",\"thap khlo\",\"aykhal\",\"faya-largeau\",\"paramonga\",\"andergrove\",\"piracuruca\",\"boa vista\",\"holualoa\",\"taulaga\",\"yozgat\",\"smithers\",\"musaffah\",\"ostrovskoye\",\"zhezqazghan\",\"nili\",\"byron bay\",\"luderitz\",\"istaravshan\",\"pangody\",\"makushino\",\"gaspe\",\"dudinka\",\"sao joao da barra\",\"sola\",\"antsiranana\",\"kununurra\",\"chibougamau\",\"baki\",\"sept-iles\",\"sena madureira\",\"cheremukhovo\",\"tual\",\"khovd\",\"niquero\",\"katsuura\",\"nantucket\",\"bulnes\",\"obo\",\"zabaykal'sk\",\"bojnurd\",\"callao\",\"sao luis de montes belos\",\"myitkyina\",\"kimbe\",\"turgenevo\",\"mahikeng\",\"kourou\",\"leninskoye\",\"lamar\",\"mata-utu\",\"walvis bay\",\"margate\",\"pindushi\",\"guerrero negro\",\"zaysan\",\"plastun\",\"pochinok\",\"chadron\",\"moose jaw\",\"tolanaro\",\"formosa do rio preto\",\"gebeit\",\"amahai\",\"baruun-urt\",\"suyo\",\"yomju-up\",\"along\",\"qulsary\",\"choibalsan\",\"lingcheng\",\"elista\",\"mahina\",\"arraial do cabo\",\"dej\",\"bathsheba\",\"yulinshi\",\"tommot\",\"rodolfo sanchez taboada\",\"tsengel\",\"san pablo villa de mitla\",\"plettenberg bay\",\"luckeesarai\",\"aneho\",\"sisimiut\",\"san rafael\",\"mossel bay\",\"seydisehir\",\"tocopilla\",\"hirara\",\"nova vicosa\",\"ulladulla\",\"grand falls-windsor\",\"bonthe\",\"egilsstadir\",\"vredendal\",\"ontario\",\"birao\",\"zaragoza\",\"zhaotong\",\"alfenas\",\"cidade velha\",\"vylkove\",\"dapchi\",\"timimoun\",\"beledweyne\",\"yuzhno-kurilsk\",\"astara\",\"al hazm\",\"st. paul\",\"mbanza kongo\",\"boden\",\"meadow lake\",\"kailua-kona\",\"las lomitas\",\"ban huai thalaeng\",\"zvolen\",\"hopelchen\",\"hampton bays\",\"talara\",\"puerto santa\",\"ciudad melchor muzquiz\",\"sudak\",\"sumbawa besar\",\"mokolo\",\"anaconda\",\"happy valley-goose bay\",\"linfen\",\"kletskaya\",\"riscani\",\"warrenton\",\"pedernales\",\"tomatlan\",\"suleja\",\"enewetak\",\"kaihua\",\"mermoz boabab\",\"touros\",\"bardai\",\"howard springs\",\"veraval\",\"tekkali\",\"victorica\",\"buchanan\",\"bontang\",\"taber\",\"chelno-vershiny\",\"verkhnevilyuysk\",\"saint-joseph\",\"topolobampo\",\"mana\",\"laguna\",\"maceio\",\"kruisfontein\",\"sao jose da coroa grande\",\"mullovka\",\"strezhevoy\",\"knyaze-volkonskoye\",\"pacific grove\",\"trincomalee\",\"bozoum\",\"waingapu\",\"concepcion\",\"severo-yeniseyskiy\",\"mao\",\"nemuro\",\"altai\",\"muynoq\",\"pavlodar\",\"murghob\",\"kalat\",\"mil'kovo\",\"brokopondo\",\"karakol\",\"the pas\",\"mando\",\"port douglas\",\"capao da canoa\",\"vodnyy\",\"manicore\",\"vorkuta\",\"oranjemund\",\"praia da vitoria\",\"ingeniero jacobacci\",\"petrovsk-zabaykal'skiy\",\"lagoa formosa\",\"okha\",\"zaozersk\",\"windhoek\",\"cabedelo\",\"kerikeri\"]],[\"size\",{\"type\":\"ndarray\",\"array\":{\"type\":\"bytes\",\"data\":\"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\"},\"shape\":[549],\"dtype\":\"float64\",\"order\":\"little\"}]]}}},\"view\":{\"type\":\"object\",\"name\":\"CDSView\",\"id\":\"p2070\",\"attributes\":{\"filter\":{\"type\":\"object\",\"name\":\"AllIndices\",\"id\":\"p2071\"}}},\"glyph\":{\"type\":\"object\",\"name\":\"Scatter\",\"id\":\"p2064\",\"attributes\":{\"tags\":[\"apply_ranges\"],\"x\":{\"type\":\"field\",\"field\":\"Lng\"},\"y\":{\"type\":\"field\",\"field\":\"Lat\"},\"size\":{\"type\":\"field\",\"field\":\"size\"},\"line_color\":{\"type\":\"field\",\"field\":\"color\",\"transform\":{\"type\":\"object\",\"name\":\"CategoricalColorMapper\",\"id\":\"p2057\",\"attributes\":{\"palette\":[\"#1f77b3\",\"#ff7e0e\",\"#2ba02b\",\"#d62628\",\"#9367bc\",\"#8c564b\",\"#e277c1\",\"#7e7e7e\",\"#bcbc21\",\"#16bdcf\",\"#3a0182\",\"#004201\",\"#0fffa8\",\"#5d003f\",\"#bcbcff\",\"#d8afa1\",\"#b80080\",\"#004d52\",\"#6b6400\",\"#7c0100\",\"#6026ff\",\"#ffff9a\",\"#564964\",\"#8cb893\",\"#93fbff\",\"#018267\",\"#90ff00\",\"#8200a0\",\"#ac8944\",\"#5b3400\",\"#ffbff2\",\"#ff6e75\",\"#798cff\",\"#dd00ff\",\"#505646\",\"#004489\",\"#ffbf60\",\"#ff018c\",\"#bdc8cf\",\"#af97b5\",\"#b65600\",\"#017000\",\"#cd87ff\",\"#1cd646\",\"#bfebc3\",\"#7997b5\",\"#a56089\",\"#6e8956\",\"#bc7c75\",\"#8a2844\",\"#00acff\",\"#8ed4ff\",\"#4b6d77\",\"#00d4b1\",\"#9300f2\",\"#8a9500\",\"#5d5b9e\",\"#fddfba\",\"#00939e\",\"#ffdb00\",\"#00aa79\",\"#520067\",\"#000091\",\"#0a5d3d\",\"#a5e275\",\"#623b41\",\"#c6c689\",\"#ff9eb5\",\"#cd4f6b\",\"#ff07d6\",\"#8a3a05\",\"#7e3d70\",\"#ff4901\",\"#602ba5\",\"#1c00ff\",\"#e6dfff\",\"#aa3baf\",\"#d89c00\",\"#a3a39e\",\"#3f69ff\",\"#46490c\",\"#7b6985\",\"#6b978c\",\"#ff9a75\",\"#835bff\",\"#7c6b46\",\"#80b654\",\"#bc0049\",\"#fd93ff\",\"#5d0018\",\"#89d1d1\",\"#9c8cd3\",\"#da6d42\",\"#8a5700\",\"#3b5069\",\"#4b6b3b\",\"#edcfd8\",\"#cfedff\",\"#aa1500\",\"#dfff4f\",\"#ff2a56\",\"#d1499e\",\"#707cb8\",\"#598000\",\"#00e4fd\",\"#774b95\",\"#67d48c\",\"#3d3a72\",\"#ac413f\",\"#d6a166\",\"#c169cd\",\"#69595d\",\"#87aced\",\"#a0a569\",\"#d1aae6\",\"#870062\",\"#00fddb\",\"#672818\",\"#b342ff\",\"#0e59c4\",\"#168742\",\"#90d300\",\"#cd7900\",\"#f959ff\",\"#5b7466\",\"#8eaeb3\",\"#9c7c8c\",\"#4600c6\",\"#6b4d2d\",\"#a56d46\",\"#9e8972\",\"#a8afca\",\"#cd8ca7\",\"#00fd64\",\"#917900\",\"#ff62a1\",\"#f4ffd8\",\"#018cf0\",\"#13aca0\",\"#5b2d59\",\"#89859e\",\"#cfccba\",\"#d4afc4\",\"#dbdd6d\",\"#cffff4\",\"#006485\",\"#006962\",\"#a84167\",\"#2d97c4\",\"#a874ff\",\"#26ba5d\",\"#57b600\",\"#caffa7\",\"#a379aa\",\"#ffbc93\",\"#89e2c1\",\"#0fc8ff\",\"#d400c4\",\"#626d89\",\"#69858e\",\"#4b4d52\",\"#aa6067\",\"#79b5d4\",\"#2b5916\",\"#9a0024\",\"#bdd1f2\",\"#896e67\",\"#69a56b\",\"#855467\",\"#aecdba\",\"#87997e\",\"#cadb00\",\"#9a0390\",\"#ebbc1a\",\"#eb9cd1\",\"#70006e\",\"#b1a131\",\"#ca6b93\",\"#4146a3\",\"#e48c89\",\"#d44400\",\"#c68aca\",\"#b69597\",\"#d41f75\",\"#724bcc\",\"#674d00\",\"#672138\",\"#38564f\",\"#6ebaaa\",\"#853a31\",\"#a5d397\",\"#b8af8e\",\"#d8e4df\",\"#aa00df\",\"#cac1db\",\"#ffdf8c\",\"#e2524d\",\"#66696e\",\"#ff001c\",\"#522d72\",\"#4d906b\",\"#a86d11\",\"#ff9e26\",\"#5ea3af\",\"#c88556\",\"#915997\",\"#a3a1ff\",\"#fdbaba\",\"#242a87\",\"#dbe6a8\",\"#97f2a7\",\"#6793d6\",\"#ba5b3f\",\"#3a5d91\",\"#364f2f\",\"#267c95\",\"#89959a\",\"#cfb356\",\"#004664\",\"#5e5d2f\",\"#8e8e41\",\"#ac3f13\",\"#69953b\",\"#a13d85\",\"#bfb6ba\",\"#acc667\",\"#6469cf\",\"#91af00\",\"#2be2da\",\"#016e36\",\"#ff7952\",\"#42807e\",\"#4fe800\",\"#995428\",\"#5d0a00\",\"#a30057\",\"#0c8700\",\"#5982a7\",\"#ffebfb\",\"#4b6901\",\"#8775d4\",\"#e6c6ff\",\"#a5ffda\",\"#d86e77\",\"#df014b\",\"#69675b\",\"#776ba1\",\"#7e8067\",\"#594685\",\"#0000ca\",\"#7c002a\",\"#97ff72\",\"#b5e2e1\",\"#db52c8\",\"#777734\",\"#57bd8e\",\"#1f77b3\",\"#ff7e0e\",\"#2ba02b\",\"#d62628\",\"#9367bc\",\"#8c564b\",\"#e277c1\",\"#7e7e7e\",\"#bcbc21\",\"#16bdcf\",\"#3a0182\",\"#004201\",\"#0fffa8\",\"#5d003f\",\"#bcbcff\",\"#d8afa1\",\"#b80080\",\"#004d52\",\"#6b6400\",\"#7c0100\",\"#6026ff\",\"#ffff9a\",\"#564964\",\"#8cb893\",\"#93fbff\",\"#018267\",\"#90ff00\",\"#8200a0\",\"#ac8944\",\"#5b3400\",\"#ffbff2\",\"#ff6e75\",\"#798cff\",\"#dd00ff\",\"#505646\",\"#004489\",\"#ffbf60\",\"#ff018c\",\"#bdc8cf\",\"#af97b5\",\"#b65600\",\"#017000\",\"#cd87ff\",\"#1cd646\",\"#bfebc3\",\"#7997b5\",\"#a56089\",\"#6e8956\",\"#bc7c75\",\"#8a2844\",\"#00acff\",\"#8ed4ff\",\"#4b6d77\",\"#00d4b1\",\"#9300f2\",\"#8a9500\",\"#5d5b9e\",\"#fddfba\",\"#00939e\",\"#ffdb00\",\"#00aa79\",\"#520067\",\"#000091\",\"#0a5d3d\",\"#a5e275\",\"#623b41\",\"#c6c689\",\"#ff9eb5\",\"#cd4f6b\",\"#ff07d6\",\"#8a3a05\",\"#7e3d70\",\"#ff4901\",\"#602ba5\",\"#1c00ff\",\"#e6dfff\",\"#aa3baf\",\"#d89c00\",\"#a3a39e\",\"#3f69ff\",\"#46490c\",\"#7b6985\",\"#6b978c\",\"#ff9a75\",\"#835bff\",\"#7c6b46\",\"#80b654\",\"#bc0049\",\"#fd93ff\",\"#5d0018\",\"#89d1d1\",\"#9c8cd3\",\"#da6d42\",\"#8a5700\",\"#3b5069\",\"#4b6b3b\",\"#edcfd8\",\"#cfedff\",\"#aa1500\",\"#dfff4f\",\"#ff2a56\",\"#d1499e\",\"#707cb8\",\"#598000\",\"#00e4fd\",\"#774b95\",\"#67d48c\",\"#3d3a72\",\"#ac413f\",\"#d6a166\",\"#c169cd\",\"#69595d\",\"#87aced\",\"#a0a569\",\"#d1aae6\",\"#870062\",\"#00fddb\",\"#672818\",\"#b342ff\",\"#0e59c4\",\"#168742\",\"#90d300\",\"#cd7900\",\"#f959ff\",\"#5b7466\",\"#8eaeb3\",\"#9c7c8c\",\"#4600c6\",\"#6b4d2d\",\"#a56d46\",\"#9e8972\",\"#a8afca\",\"#cd8ca7\",\"#00fd64\",\"#917900\",\"#ff62a1\",\"#f4ffd8\",\"#018cf0\",\"#13aca0\",\"#5b2d59\",\"#89859e\",\"#cfccba\",\"#d4afc4\",\"#dbdd6d\",\"#cffff4\",\"#006485\",\"#006962\",\"#a84167\",\"#2d97c4\",\"#a874ff\",\"#26ba5d\",\"#57b600\",\"#caffa7\",\"#a379aa\",\"#ffbc93\",\"#89e2c1\",\"#0fc8ff\",\"#d400c4\",\"#626d89\",\"#69858e\",\"#4b4d52\",\"#aa6067\",\"#79b5d4\",\"#2b5916\",\"#9a0024\",\"#bdd1f2\",\"#896e67\",\"#69a56b\",\"#855467\",\"#aecdba\",\"#87997e\",\"#cadb00\",\"#9a0390\",\"#ebbc1a\",\"#eb9cd1\",\"#70006e\",\"#b1a131\",\"#ca6b93\",\"#4146a3\",\"#e48c89\",\"#d44400\",\"#c68aca\",\"#b69597\",\"#d41f75\",\"#724bcc\",\"#674d00\",\"#672138\",\"#38564f\",\"#6ebaaa\",\"#853a31\",\"#a5d397\",\"#b8af8e\",\"#d8e4df\",\"#aa00df\",\"#cac1db\",\"#ffdf8c\",\"#e2524d\",\"#66696e\",\"#ff001c\",\"#522d72\",\"#4d906b\",\"#a86d11\",\"#ff9e26\",\"#5ea3af\",\"#c88556\",\"#915997\",\"#a3a1ff\",\"#fdbaba\",\"#242a87\",\"#dbe6a8\",\"#97f2a7\",\"#6793d6\",\"#ba5b3f\",\"#3a5d91\",\"#364f2f\",\"#267c95\",\"#89959a\",\"#cfb356\",\"#004664\",\"#5e5d2f\",\"#8e8e41\",\"#ac3f13\",\"#69953b\",\"#a13d85\",\"#bfb6ba\",\"#acc667\",\"#6469cf\",\"#91af00\",\"#2be2da\",\"#016e36\",\"#ff7952\",\"#42807e\",\"#4fe800\",\"#995428\",\"#5d0a00\",\"#a30057\",\"#0c8700\",\"#5982a7\",\"#ffebfb\",\"#4b6901\",\"#8775d4\",\"#e6c6ff\",\"#a5ffda\",\"#d86e77\",\"#df014b\",\"#69675b\",\"#776ba1\",\"#7e8067\",\"#594685\",\"#0000ca\",\"#7c002a\",\"#97ff72\",\"#b5e2e1\",\"#db52c8\",\"#777734\",\"#57bd8e\",\"#1f77b3\",\"#ff7e0e\",\"#2ba02b\",\"#d62628\",\"#9367bc\",\"#8c564b\",\"#e277c1\",\"#7e7e7e\",\"#bcbc21\",\"#16bdcf\",\"#3a0182\",\"#004201\",\"#0fffa8\",\"#5d003f\",\"#bcbcff\",\"#d8afa1\",\"#b80080\",\"#004d52\",\"#6b6400\",\"#7c0100\",\"#6026ff\",\"#ffff9a\",\"#564964\",\"#8cb893\",\"#93fbff\",\"#018267\",\"#90ff00\",\"#8200a0\",\"#ac8944\",\"#5b3400\",\"#ffbff2\",\"#ff6e75\",\"#798cff\",\"#dd00ff\",\"#505646\",\"#004489\",\"#ffbf60\"],\"factors\":[\"bethel\",\"vinh\",\"stanley\",\"afaahiti\",\"grytviken\",\"anadyr\",\"jamestown\",\"edinburgh of the seven seas\",\"klyuchi\",\"port-aux-francais\",\"kroya\",\"nova sintra\",\"waitangi\",\"kuta\",\"pisco\",\"margaret river\",\"hamilton\",\"hammerfest\",\"thompson\",\"wailua homesteads\",\"isafjordur\",\"bilibino\",\"blackmans bay\",\"ilulissat\",\"adamstown\",\"lebu\",\"aoulef\",\"vorgashor\",\"avarua\",\"vilyuchinsk\",\"yichang\",\"ribeira grande\",\"flin flon\",\"santa ana\",\"albany\",\"christchurch\",\"akureyri\",\"lukolela\",\"mukalla\",\"la ronge\",\"lobujya\",\"soe\",\"severo-vostotchnyi bank\",\"iqaluit\",\"arno\",\"kupang\",\"lazaro cardenas\",\"la passe\",\"invercargill\",\"vadso\",\"puerto natales\",\"rio grande\",\"punta arenas\",\"badger\",\"aberglasslyn\",\"chinchilla\",\"port augusta\",\"sinabang\",\"kiunga\",\"st. john's\",\"port mathurin\",\"fortuna\",\"tazovsky\",\"viana do castelo\",\"mishkino\",\"fisterra\",\"rusape\",\"whitehorse\",\"prabumulih\",\"naxos\",\"constantia\",\"puerto ayora\",\"nguigmi\",\"mega\",\"kargil\",\"hawaiian paradise park\",\"genhe\",\"rabo de peixe\",\"ryotsu-minato\",\"kristiansund\",\"port hedland\",\"antalaha\",\"ushuaia\",\"west island\",\"port lincoln\",\"yellowknife\",\"manakara\",\"ubinskoye\",\"poyarkovo\",\"tadine\",\"xilin hot\",\"hermanus\",\"olyokminsk\",\"saipan\",\"grand-lahou\",\"taoudenni\",\"urzhar\",\"port alfred\",\"longyearbyen\",\"uturoa\",\"kuna\",\"eyl\",\"aasiaat\",\"nizhniy kuranakh\",\"broken hill\",\"la'ie\",\"griffith\",\"huilong\",\"sarkand\",\"ogulin\",\"juan griego\",\"strelka\",\"ancud\",\"noumea\",\"hotan\",\"olonkinbyen\",\"acajutla\",\"san patricio\",\"san pedro pochutla\",\"galliano\",\"gerash\",\"fale old settlement\",\"atafu village\",\"hasaki\",\"banda aceh\",\"kotel'nikovo\",\"palmas\",\"magadan\",\"navolato\",\"popondetta\",\"ghat\",\"urengoy\",\"puerto asis\",\"east london\",\"adolfo lopez mateos\",\"tura\",\"island harbour\",\"chonchi\",\"mandalgovi\",\"college\",\"farrokh shahr\",\"maraba\",\"labrador city\",\"bathurst\",\"peskovka\",\"narayanpet\",\"sabzevar\",\"al wafrah\",\"makinsk\",\"safford\",\"swakopmund\",\"kharp\",\"crucecita\",\"mount gambier\",\"terrace\",\"sao gabriel da cachoeira\",\"talnakh\",\"tarnogskiy gorodok\",\"choyr\",\"tiksi\",\"alice springs\",\"cannonvale\",\"yei\",\"cole harbour\",\"minas de marcona\",\"omutinskiy\",\"saint-leu\",\"vallegrande\",\"bima\",\"el galpon\",\"barah\",\"queenstown\",\"sitka\",\"tena\",\"mahebourg\",\"papatowai\",\"esquina\",\"utrik\",\"viiala\",\"bria\",\"wenshui\",\"petropavlovsk-kamchatsky\",\"naryshkino\",\"sortavala\",\"trapani\",\"kingston\",\"acarau\",\"san antonio de pale\",\"port elizabeth\",\"hanzhong\",\"penzance\",\"ust-nera\",\"lihue\",\"kodiak\",\"westport\",\"plouzane\",\"selfoss\",\"bakani\",\"rongelap\",\"kapuskasing\",\"mitu\",\"amga\",\"sao vicente\",\"maloye ganyushkino\",\"kapa'a\",\"nagqu\",\"masterton\",\"palikir - national government center\",\"codrington\",\"korocha\",\"geraldton\",\"bangar\",\"lensk\",\"vila franca do campo\",\"yreka\",\"nizhneudinsk\",\"udachny\",\"nar'yan-mar\",\"bukama\",\"bredasdorp\",\"xiongzhou\",\"ta`u\",\"pathein\",\"katsina-ala\",\"gizo\",\"georgetown\",\"douz\",\"koscierzyna\",\"shalqar\",\"tromso\",\"cambria\",\"magole\",\"palmer\",\"pakenham\",\"carnarvon\",\"churachandpur\",\"pitimbu\",\"laikit, laikit ii (dimembe)\",\"kisangani\",\"yunyang\",\"yabassi\",\"ribeira brava\",\"haiku-pauwela\",\"takoradi\",\"huarmey\",\"ebaye\",\"coron\",\"devils lake\",\"vernon\",\"kloulklubed\",\"thunder bay\",\"ivdel'\",\"gadzhiyevo\",\"crane\",\"brookings\",\"poronaysk\",\"taunggyi\",\"mejit\",\"coquimbo\",\"chui\",\"iskateley\",\"baissa\",\"fort bragg\",\"mahibadhoo\",\"east naples\",\"orting\",\"nouadhibou\",\"colonia\",\"tahta\",\"la libertad\",\"pingliang\",\"valdivia\",\"vanimo\",\"flying fish cove\",\"kyren\",\"shaowu\",\"northam\",\"mocimboa\",\"pestretsy\",\"macapa\",\"port blair\",\"hithadhoo\",\"korla\",\"susuman\",\"san luis de la loma\",\"mount isa\",\"motueka\",\"lucheng\",\"prien am chiemsee\",\"barcelos\",\"nuevo ideal\",\"malanje\",\"yanbu\",\"onega\",\"pokachi\",\"prince rupert\",\"weno\",\"high river\",\"bentiu\",\"sikonge\",\"mumbwa\",\"hastings\",\"playas\",\"qaqortoq\",\"nema\",\"hadibu\",\"alotau\",\"kilindoni\",\"saint-philippe\",\"mpika\",\"el calafate\",\"kone\",\"dzuunharaa\",\"caraballeda\",\"outjo\",\"portland\",\"saacow\",\"bodaybo\",\"taksimo\",\"taroudant\",\"pemangkat\",\"bogota\",\"tazacorte\",\"viedma\",\"karuzi\",\"nchelenge\",\"wewak\",\"bamboo flat\",\"enriquillo\",\"constitucion\",\"port shepstone\",\"nanao\",\"puerto baquerizo moreno\",\"maddagiri\",\"junagadh\",\"uliastay\",\"yanam\",\"parauna\",\"kavaratti\",\"benghazi\",\"revda\",\"machico\",\"kavieng\",\"shenjiamen\",\"port macquarie\",\"paracuru\",\"inhambane\",\"salinopolis\",\"remire-montjoly\",\"juneau\",\"catio\",\"ryzdvyanyy\",\"hofors\",\"tonj\",\"opuwo\",\"mbanza-ngungu\",\"arkhangel'sk\",\"al fuwayliq\",\"basmat\",\"thap khlo\",\"aykhal\",\"faya-largeau\",\"paramonga\",\"andergrove\",\"piracuruca\",\"boa vista\",\"holualoa\",\"taulaga\",\"yozgat\",\"smithers\",\"musaffah\",\"ostrovskoye\",\"zhezqazghan\",\"nili\",\"byron bay\",\"luderitz\",\"istaravshan\",\"pangody\",\"makushino\",\"gaspe\",\"dudinka\",\"sao joao da barra\",\"sola\",\"antsiranana\",\"kununurra\",\"chibougamau\",\"baki\",\"sept-iles\",\"sena madureira\",\"cheremukhovo\",\"tual\",\"khovd\",\"niquero\",\"katsuura\",\"nantucket\",\"bulnes\",\"obo\",\"zabaykal'sk\",\"bojnurd\",\"callao\",\"sao luis de montes belos\",\"myitkyina\",\"kimbe\",\"turgenevo\",\"mahikeng\",\"kourou\",\"leninskoye\",\"lamar\",\"mata-utu\",\"walvis bay\",\"margate\",\"pindushi\",\"guerrero negro\",\"zaysan\",\"plastun\",\"pochinok\",\"chadron\",\"moose jaw\",\"tolanaro\",\"formosa do rio preto\",\"gebeit\",\"amahai\",\"baruun-urt\",\"suyo\",\"yomju-up\",\"along\",\"qulsary\",\"choibalsan\",\"lingcheng\",\"elista\",\"mahina\",\"arraial do cabo\",\"dej\",\"bathsheba\",\"yulinshi\",\"tommot\",\"rodolfo sanchez taboada\",\"tsengel\",\"san pablo villa de mitla\",\"plettenberg bay\",\"luckeesarai\",\"aneho\",\"sisimiut\",\"san rafael\",\"mossel bay\",\"seydisehir\",\"tocopilla\",\"hirara\",\"nova vicosa\",\"ulladulla\",\"grand falls-windsor\",\"bonthe\",\"egilsstadir\",\"vredendal\",\"ontario\",\"birao\",\"zaragoza\",\"zhaotong\",\"alfenas\",\"cidade velha\",\"vylkove\",\"dapchi\",\"timimoun\",\"beledweyne\",\"yuzhno-kurilsk\",\"astara\",\"al hazm\",\"st. paul\",\"mbanza kongo\",\"boden\",\"meadow lake\",\"kailua-kona\",\"las lomitas\",\"ban huai thalaeng\",\"zvolen\",\"hopelchen\",\"hampton bays\",\"talara\",\"puerto santa\",\"ciudad melchor muzquiz\",\"sudak\",\"sumbawa besar\",\"mokolo\",\"anaconda\",\"happy valley-goose bay\",\"linfen\",\"kletskaya\",\"riscani\",\"warrenton\",\"pedernales\",\"tomatlan\",\"suleja\",\"enewetak\",\"kaihua\",\"mermoz boabab\",\"touros\",\"bardai\",\"howard springs\",\"veraval\",\"tekkali\",\"victorica\",\"buchanan\",\"bontang\",\"taber\",\"chelno-vershiny\",\"verkhnevilyuysk\",\"saint-joseph\",\"topolobampo\",\"mana\",\"laguna\",\"maceio\",\"kruisfontein\",\"sao jose da coroa grande\",\"mullovka\",\"strezhevoy\",\"knyaze-volkonskoye\",\"pacific grove\",\"trincomalee\",\"bozoum\",\"waingapu\",\"concepcion\",\"severo-yeniseyskiy\",\"mao\",\"nemuro\",\"altai\",\"muynoq\",\"pavlodar\",\"murghob\",\"kalat\",\"mil'kovo\",\"brokopondo\",\"karakol\",\"the pas\",\"mando\",\"port douglas\",\"capao da canoa\",\"vodnyy\",\"manicore\",\"vorkuta\",\"oranjemund\",\"praia da vitoria\",\"ingeniero jacobacci\",\"petrovsk-zabaykal'skiy\",\"lagoa formosa\",\"okha\",\"zaozersk\",\"windhoek\",\"cabedelo\",\"kerikeri\"]}}},\"fill_color\":{\"type\":\"field\",\"field\":\"color\",\"transform\":{\"id\":\"p2057\"}},\"hatch_color\":{\"type\":\"field\",\"field\":\"color\",\"transform\":{\"id\":\"p2057\"}}}},\"selection_glyph\":{\"type\":\"object\",\"name\":\"Scatter\",\"id\":\"p2066\",\"attributes\":{\"tags\":[\"apply_ranges\"],\"x\":{\"type\":\"field\",\"field\":\"Lng\"},\"y\":{\"type\":\"field\",\"field\":\"Lat\"},\"size\":{\"type\":\"field\",\"field\":\"size\"},\"line_color\":{\"type\":\"field\",\"field\":\"color\",\"transform\":{\"id\":\"p2057\"}},\"fill_color\":{\"type\":\"field\",\"field\":\"color\",\"transform\":{\"id\":\"p2057\"}},\"hatch_color\":{\"type\":\"field\",\"field\":\"color\",\"transform\":{\"id\":\"p2057\"}}}},\"nonselection_glyph\":{\"type\":\"object\",\"name\":\"Scatter\",\"id\":\"p2065\",\"attributes\":{\"tags\":[\"apply_ranges\"],\"x\":{\"type\":\"field\",\"field\":\"Lng\"},\"y\":{\"type\":\"field\",\"field\":\"Lat\"},\"size\":{\"type\":\"field\",\"field\":\"size\"},\"line_color\":{\"type\":\"field\",\"field\":\"color\",\"transform\":{\"id\":\"p2057\"}},\"line_alpha\":{\"type\":\"value\",\"value\":0.1},\"fill_color\":{\"type\":\"field\",\"field\":\"color\",\"transform\":{\"id\":\"p2057\"}},\"fill_alpha\":{\"type\":\"value\",\"value\":0.1},\"hatch_color\":{\"type\":\"field\",\"field\":\"color\",\"transform\":{\"id\":\"p2057\"}},\"hatch_alpha\":{\"type\":\"value\",\"value\":0.1}}},\"hover_glyph\":{\"type\":\"object\",\"name\":\"Scatter\",\"id\":\"p2067\",\"attributes\":{\"tags\":[\"apply_ranges\"],\"x\":{\"type\":\"field\",\"field\":\"Lng\"},\"y\":{\"type\":\"field\",\"field\":\"Lat\"},\"size\":{\"type\":\"field\",\"field\":\"size\"},\"line_color\":{\"type\":\"field\",\"field\":\"color\",\"transform\":{\"id\":\"p2057\"}},\"fill_color\":{\"type\":\"field\",\"field\":\"color\",\"transform\":{\"id\":\"p2057\"}},\"hatch_color\":{\"type\":\"field\",\"field\":\"color\",\"transform\":{\"id\":\"p2057\"}}}},\"muted_glyph\":{\"type\":\"object\",\"name\":\"Scatter\",\"id\":\"p2068\",\"attributes\":{\"tags\":[\"apply_ranges\"],\"x\":{\"type\":\"field\",\"field\":\"Lng\"},\"y\":{\"type\":\"field\",\"field\":\"Lat\"},\"size\":{\"type\":\"field\",\"field\":\"size\"},\"line_color\":{\"type\":\"field\",\"field\":\"color\",\"transform\":{\"id\":\"p2057\"}},\"line_alpha\":{\"type\":\"value\",\"value\":0.2},\"fill_color\":{\"type\":\"field\",\"field\":\"color\",\"transform\":{\"id\":\"p2057\"}},\"fill_alpha\":{\"type\":\"value\",\"value\":0.2},\"hatch_color\":{\"type\":\"field\",\"field\":\"color\",\"transform\":{\"id\":\"p2057\"}},\"hatch_alpha\":{\"type\":\"value\",\"value\":0.2}}}}}],\"toolbar\":{\"type\":\"object\",\"name\":\"Toolbar\",\"id\":\"p2029\",\"attributes\":{\"tools\":[{\"type\":\"object\",\"name\":\"WheelZoomTool\",\"id\":\"p1987\",\"attributes\":{\"renderers\":\"auto\",\"zoom_on_axis\":false}},{\"type\":\"object\",\"name\":\"BoxZoomTool\",\"id\":\"p1995\",\"attributes\":{\"overlay\":{\"type\":\"object\",\"name\":\"BoxAnnotation\",\"id\":\"p1988\",\"attributes\":{\"syncable\":false,\"line_color\":\"black\",\"line_alpha\":1.0,\"line_width\":2,\"line_dash\":[4,4],\"fill_color\":\"lightgrey\",\"fill_alpha\":0.5,\"level\":\"overlay\",\"visible\":false,\"left\":{\"type\":\"number\",\"value\":\"nan\"},\"right\":{\"type\":\"number\",\"value\":\"nan\"},\"top\":{\"type\":\"number\",\"value\":\"nan\"},\"bottom\":{\"type\":\"number\",\"value\":\"nan\"},\"left_units\":\"canvas\",\"right_units\":\"canvas\",\"top_units\":\"canvas\",\"bottom_units\":\"canvas\",\"handles\":{\"type\":\"object\",\"name\":\"BoxInteractionHandles\",\"id\":\"p1014\",\"attributes\":{\"all\":{\"type\":\"object\",\"name\":\"AreaVisuals\",\"id\":\"p1013\",\"attributes\":{\"fill_color\":\"white\",\"hover_fill_color\":\"lightgray\"}}}}}},\"match_aspect\":true}},{\"type\":\"object\",\"name\":\"HoverTool\",\"id\":\"p2019\",\"attributes\":{\"tags\":[\"hv_created\"],\"renderers\":[{\"id\":\"p2069\"}],\"tooltips\":[[\"Lng\",\"$x{custom}\"],[\"Lat\",\"$y{custom}\"],[\"City\",\"@{City}\"],[\"Humidity\",\"@{Humidity}\"]],\"formatters\":{\"type\":\"map\",\"entries\":[[\"$x\",{\"type\":\"object\",\"name\":\"CustomJSHover\",\"id\":\"p2074\",\"attributes\":{\"code\":\"\\n        const projections = Bokeh.require(\\\"core/util/projections\\\");\\n        const {snap_x, snap_y} = special_vars\\n        const coords = projections.wgs84_mercator.invert(snap_x, snap_y)\\n        return \\\"\\\" + (coords[0]).toFixed(4)\\n    \"}}],[\"$y\",{\"type\":\"object\",\"name\":\"CustomJSHover\",\"id\":\"p2075\",\"attributes\":{\"code\":\"\\n        const projections = Bokeh.require(\\\"core/util/projections\\\");\\n        const {snap_x, snap_y} = special_vars\\n        const coords = projections.wgs84_mercator.invert(snap_x, snap_y)\\n        return \\\"\\\" + (coords[1]).toFixed(4)\\n    \"}}]]}}},{\"type\":\"object\",\"name\":\"PanTool\",\"id\":\"p2043\"},{\"type\":\"object\",\"name\":\"ResetTool\",\"id\":\"p2044\"}],\"active_drag\":{\"id\":\"p2043\"}}},\"left\":[{\"type\":\"object\",\"name\":\"LinearAxis\",\"id\":\"p2037\",\"attributes\":{\"ticker\":{\"type\":\"object\",\"name\":\"MercatorTicker\",\"id\":\"p2047\",\"attributes\":{\"mantissas\":[1,2,5],\"dimension\":\"lat\"}},\"formatter\":{\"type\":\"object\",\"name\":\"MercatorTickFormatter\",\"id\":\"p2048\",\"attributes\":{\"dimension\":\"lat\"}},\"axis_label\":\"Latitude\",\"major_label_policy\":{\"type\":\"object\",\"name\":\"AllLabels\",\"id\":\"p2040\"}}}],\"right\":[{\"type\":\"object\",\"name\":\"Legend\",\"id\":\"p2072\",\"attributes\":{\"location\":[0,0],\"click_policy\":\"mute\",\"items\":[{\"type\":\"object\",\"name\":\"LegendItem\",\"id\":\"p2073\",\"attributes\":{\"label\":{\"type\":\"field\",\"field\":\"color\"},\"renderers\":[{\"id\":\"p2069\"}]}}]}}],\"below\":[{\"type\":\"object\",\"name\":\"LinearAxis\",\"id\":\"p2032\",\"attributes\":{\"ticker\":{\"type\":\"object\",\"name\":\"MercatorTicker\",\"id\":\"p2045\",\"attributes\":{\"mantissas\":[1,2,5],\"dimension\":\"lon\"}},\"formatter\":{\"type\":\"object\",\"name\":\"MercatorTickFormatter\",\"id\":\"p2046\",\"attributes\":{\"dimension\":\"lon\"}},\"axis_label\":\"Longitude\",\"major_label_policy\":{\"type\":\"object\",\"name\":\"AllLabels\",\"id\":\"p2035\"}}}],\"center\":[{\"type\":\"object\",\"name\":\"Grid\",\"id\":\"p2036\",\"attributes\":{\"axis\":{\"id\":\"p2032\"},\"grid_line_color\":null}},{\"type\":\"object\",\"name\":\"Grid\",\"id\":\"p2041\",\"attributes\":{\"dimension\":1,\"axis\":{\"id\":\"p2037\"},\"grid_line_color\":null}}],\"frame_width\":700,\"frame_height\":358,\"min_border_top\":10,\"min_border_bottom\":10,\"min_border_left\":10,\"min_border_right\":10,\"output_backend\":\"webgl\",\"match_aspect\":true}},{\"type\":\"object\",\"name\":\"Spacer\",\"id\":\"p2077\",\"attributes\":{\"name\":\"HSpacer02702\",\"stylesheets\":[\"\\n:host(.pn-loading):before, .pn-loading:before {\\n  background-color: #c3c3c3;\\n  mask-size: auto calc(min(50%, 400px));\\n  -webkit-mask-size: auto calc(min(50%, 400px));\\n}\",{\"id\":\"p1966\"},{\"id\":\"p1964\"},{\"id\":\"p1965\"}],\"margin\":0,\"sizing_mode\":\"stretch_width\",\"align\":\"start\"}}]}}],\"defs\":[{\"type\":\"model\",\"name\":\"ReactiveHTML1\"},{\"type\":\"model\",\"name\":\"FlexBox1\",\"properties\":[{\"name\":\"align_content\",\"kind\":\"Any\",\"default\":\"flex-start\"},{\"name\":\"align_items\",\"kind\":\"Any\",\"default\":\"flex-start\"},{\"name\":\"flex_direction\",\"kind\":\"Any\",\"default\":\"row\"},{\"name\":\"flex_wrap\",\"kind\":\"Any\",\"default\":\"wrap\"},{\"name\":\"gap\",\"kind\":\"Any\",\"default\":\"\"},{\"name\":\"justify_content\",\"kind\":\"Any\",\"default\":\"flex-start\"}]},{\"type\":\"model\",\"name\":\"FloatPanel1\",\"properties\":[{\"name\":\"config\",\"kind\":\"Any\",\"default\":{\"type\":\"map\"}},{\"name\":\"contained\",\"kind\":\"Any\",\"default\":true},{\"name\":\"position\",\"kind\":\"Any\",\"default\":\"right-top\"},{\"name\":\"offsetx\",\"kind\":\"Any\",\"default\":null},{\"name\":\"offsety\",\"kind\":\"Any\",\"default\":null},{\"name\":\"theme\",\"kind\":\"Any\",\"default\":\"primary\"},{\"name\":\"status\",\"kind\":\"Any\",\"default\":\"normalized\"}]},{\"type\":\"model\",\"name\":\"GridStack1\",\"properties\":[{\"name\":\"mode\",\"kind\":\"Any\",\"default\":\"warn\"},{\"name\":\"ncols\",\"kind\":\"Any\",\"default\":null},{\"name\":\"nrows\",\"kind\":\"Any\",\"default\":null},{\"name\":\"allow_resize\",\"kind\":\"Any\",\"default\":true},{\"name\":\"allow_drag\",\"kind\":\"Any\",\"default\":true},{\"name\":\"state\",\"kind\":\"Any\",\"default\":[]}]},{\"type\":\"model\",\"name\":\"drag1\",\"properties\":[{\"name\":\"slider_width\",\"kind\":\"Any\",\"default\":5},{\"name\":\"slider_color\",\"kind\":\"Any\",\"default\":\"black\"},{\"name\":\"value\",\"kind\":\"Any\",\"default\":50}]},{\"type\":\"model\",\"name\":\"click1\",\"properties\":[{\"name\":\"terminal_output\",\"kind\":\"Any\",\"default\":\"\"},{\"name\":\"debug_name\",\"kind\":\"Any\",\"default\":\"\"},{\"name\":\"clears\",\"kind\":\"Any\",\"default\":0}]},{\"type\":\"model\",\"name\":\"FastWrapper1\",\"properties\":[{\"name\":\"object\",\"kind\":\"Any\",\"default\":null},{\"name\":\"style\",\"kind\":\"Any\",\"default\":null}]},{\"type\":\"model\",\"name\":\"NotificationAreaBase1\",\"properties\":[{\"name\":\"js_events\",\"kind\":\"Any\",\"default\":{\"type\":\"map\"}},{\"name\":\"position\",\"kind\":\"Any\",\"default\":\"bottom-right\"},{\"name\":\"_clear\",\"kind\":\"Any\",\"default\":0}]},{\"type\":\"model\",\"name\":\"NotificationArea1\",\"properties\":[{\"name\":\"js_events\",\"kind\":\"Any\",\"default\":{\"type\":\"map\"}},{\"name\":\"notifications\",\"kind\":\"Any\",\"default\":[]},{\"name\":\"position\",\"kind\":\"Any\",\"default\":\"bottom-right\"},{\"name\":\"_clear\",\"kind\":\"Any\",\"default\":0},{\"name\":\"types\",\"kind\":\"Any\",\"default\":[{\"type\":\"map\",\"entries\":[[\"type\",\"warning\"],[\"background\",\"#ffc107\"],[\"icon\",{\"type\":\"map\",\"entries\":[[\"className\",\"fas fa-exclamation-triangle\"],[\"tagName\",\"i\"],[\"color\",\"white\"]]}]]},{\"type\":\"map\",\"entries\":[[\"type\",\"info\"],[\"background\",\"#007bff\"],[\"icon\",{\"type\":\"map\",\"entries\":[[\"className\",\"fas fa-info-circle\"],[\"tagName\",\"i\"],[\"color\",\"white\"]]}]]}]}]},{\"type\":\"model\",\"name\":\"Notification\",\"properties\":[{\"name\":\"background\",\"kind\":\"Any\",\"default\":null},{\"name\":\"duration\",\"kind\":\"Any\",\"default\":3000},{\"name\":\"icon\",\"kind\":\"Any\",\"default\":null},{\"name\":\"message\",\"kind\":\"Any\",\"default\":\"\"},{\"name\":\"notification_type\",\"kind\":\"Any\",\"default\":null},{\"name\":\"_destroyed\",\"kind\":\"Any\",\"default\":false}]},{\"type\":\"model\",\"name\":\"TemplateActions1\",\"properties\":[{\"name\":\"open_modal\",\"kind\":\"Any\",\"default\":0},{\"name\":\"close_modal\",\"kind\":\"Any\",\"default\":0}]},{\"type\":\"model\",\"name\":\"BootstrapTemplateActions1\",\"properties\":[{\"name\":\"open_modal\",\"kind\":\"Any\",\"default\":0},{\"name\":\"close_modal\",\"kind\":\"Any\",\"default\":0}]},{\"type\":\"model\",\"name\":\"TemplateEditor1\",\"properties\":[{\"name\":\"layout\",\"kind\":\"Any\",\"default\":[]}]},{\"type\":\"model\",\"name\":\"MaterialTemplateActions1\",\"properties\":[{\"name\":\"open_modal\",\"kind\":\"Any\",\"default\":0},{\"name\":\"close_modal\",\"kind\":\"Any\",\"default\":0}]},{\"type\":\"model\",\"name\":\"ReactiveESM1\"},{\"type\":\"model\",\"name\":\"JSComponent1\"},{\"type\":\"model\",\"name\":\"ReactComponent1\"},{\"type\":\"model\",\"name\":\"AnyWidgetComponent1\"},{\"type\":\"model\",\"name\":\"request_value1\",\"properties\":[{\"name\":\"fill\",\"kind\":\"Any\",\"default\":\"none\"},{\"name\":\"_synced\",\"kind\":\"Any\",\"default\":null},{\"name\":\"_request_sync\",\"kind\":\"Any\",\"default\":0}]}]}};\n",
       "  var render_items = [{\"docid\":\"cf1badf6-75cb-4032-ad7d-abf4e9156275\",\"roots\":{\"p1963\":\"b2e5ed47-9605-4168-a072-be2d25835e29\"},\"root_ids\":[\"p1963\"]}];\n",
       "  var docs = Object.values(docs_json)\n",
       "  if (!docs) {\n",
       "    return\n",
       "  }\n",
       "  const py_version = docs[0].version.replace('rc', '-rc.').replace('.dev', '-dev.')\n",
       "  async function embed_document(root) {\n",
       "    var Bokeh = get_bokeh(root)\n",
       "    await Bokeh.embed.embed_items_notebook(docs_json, render_items);\n",
       "    for (const render_item of render_items) {\n",
       "      for (const root_id of render_item.root_ids) {\n",
       "\tconst id_el = document.getElementById(root_id)\n",
       "\tif (id_el.children.length && id_el.children[0].hasAttribute('data-root-id')) {\n",
       "\t  const root_el = id_el.children[0]\n",
       "\t  root_el.id = root_el.id + '-rendered'\n",
       "\t  for (const child of root_el.children) {\n",
       "            // Ensure JupyterLab does not capture keyboard shortcuts\n",
       "            // see: https://jupyterlab.readthedocs.io/en/4.1.x/extension/notebook.html#keyboard-interaction-model\n",
       "\t    child.setAttribute('data-lm-suppress-shortcuts', 'true')\n",
       "\t  }\n",
       "\t}\n",
       "      }\n",
       "    }\n",
       "  }\n",
       "  function get_bokeh(root) {\n",
       "    if (root.Bokeh === undefined) {\n",
       "      return null\n",
       "    } else if (root.Bokeh.version !== py_version) {\n",
       "      if (root.Bokeh.versions === undefined || !root.Bokeh.versions.has(py_version)) {\n",
       "\treturn null\n",
       "      }\n",
       "      return root.Bokeh.versions.get(py_version);\n",
       "    } else if (root.Bokeh.version === py_version) {\n",
       "      return root.Bokeh\n",
       "    }\n",
       "    return null\n",
       "  }\n",
       "  function is_loaded(root) {\n",
       "    var Bokeh = get_bokeh(root)\n",
       "    return (Bokeh != null && Bokeh.Panel !== undefined)\n",
       "  }\n",
       "  if (is_loaded(root)) {\n",
       "    embed_document(root);\n",
       "  } else {\n",
       "    var attempts = 0;\n",
       "    var timer = setInterval(function(root) {\n",
       "      if (is_loaded(root)) {\n",
       "        clearInterval(timer);\n",
       "        embed_document(root);\n",
       "      } else if (document.readyState == \"complete\") {\n",
       "        attempts++;\n",
       "        if (attempts > 200) {\n",
       "          clearInterval(timer);\n",
       "\t  var Bokeh = get_bokeh(root)\n",
       "\t  if (Bokeh == null || Bokeh.Panel == null) {\n",
       "            console.warn(\"Panel: ERROR: Unable to run Panel code because Bokeh or Panel library is missing\");\n",
       "\t  } else {\n",
       "\t    console.warn(\"Panel: WARNING: Attempting to render but not all required libraries could be resolved.\")\n",
       "\t    embed_document(root)\n",
       "\t  }\n",
       "        }\n",
       "      }\n",
       "    }, 25, root)\n",
       "  }\n",
       "})(window);</script>"
      ],
      "text/plain": [
       ":Overlay\n",
       "   .WMTS.I   :WMTS   [Longitude,Latitude]\n",
       "   .Points.I :Points   [Lng,Lat]   (City,Humidity)"
      ]
     },
     "execution_count": 26,
     "metadata": {
      "application/vnd.holoviews_exec.v0+json": {
       "id": "p1963"
      }
     },
     "output_type": "execute_result"
    }
   ],
   "source": [
    "%%capture --no-display\n",
    "\n",
    "# Configure the map plot\n",
    "map1 = city_data_df.hvplot.points(\n",
    "    \"Lng\",\n",
    "    \"Lat\",\n",
    "    geo = True,\n",
    "    tiles = \"OSM\",\n",
    "    size = \"Humidity\",\n",
    "    color= \"City\",\n",
    "    frame_width = 700\n",
    ")\n",
    "\n",
    "# Display the map\n",
    "map1"
   ]
  },
  {
   "cell_type": "markdown",
   "metadata": {},
   "source": [
    "### Step 2: Narrow down the `city_data_df` DataFrame to find your ideal weather condition"
   ]
  },
  {
   "cell_type": "code",
   "execution_count": 16,
   "metadata": {},
   "outputs": [
    {
     "name": "stderr",
     "output_type": "stream",
     "text": [
      "C:\\Users\\kithk\\AppData\\Local\\Temp\\ipykernel_4208\\810334917.py:2: UserWarning: Boolean Series key will be reindexed to match DataFrame index.\n",
      "  ideal_df=(city_data_df[city_data_df[\"Max Temp\"]<80]\n",
      "C:\\Users\\kithk\\AppData\\Local\\Temp\\ipykernel_4208\\810334917.py:2: UserWarning: Boolean Series key will be reindexed to match DataFrame index.\n",
      "  ideal_df=(city_data_df[city_data_df[\"Max Temp\"]<80]\n",
      "C:\\Users\\kithk\\AppData\\Local\\Temp\\ipykernel_4208\\810334917.py:2: UserWarning: Boolean Series key will be reindexed to match DataFrame index.\n",
      "  ideal_df=(city_data_df[city_data_df[\"Max Temp\"]<80]\n"
     ]
    },
    {
     "data": {
      "application/vnd.microsoft.datawrangler.viewer.v0+json": {
       "columns": [
        {
         "name": "index",
         "rawType": "int64",
         "type": "integer"
        },
        {
         "name": "City_ID",
         "rawType": "int64",
         "type": "integer"
        },
        {
         "name": "City",
         "rawType": "object",
         "type": "string"
        },
        {
         "name": "Lat",
         "rawType": "float64",
         "type": "float"
        },
        {
         "name": "Lng",
         "rawType": "float64",
         "type": "float"
        },
        {
         "name": "Max Temp",
         "rawType": "float64",
         "type": "float"
        },
        {
         "name": "Humidity",
         "rawType": "int64",
         "type": "integer"
        },
        {
         "name": "Cloudiness",
         "rawType": "int64",
         "type": "integer"
        },
        {
         "name": "Wind Speed",
         "rawType": "float64",
         "type": "float"
        },
        {
         "name": "Country",
         "rawType": "object",
         "type": "string"
        },
        {
         "name": "Date",
         "rawType": "object",
         "type": "string"
        }
       ],
       "conversionMethod": "pd.DataFrame",
       "ref": "72364248-183c-4653-b8b4-c5c4812b77fd",
       "rows": [
        [
         "14",
         "14",
         "pisco",
         "-13.7",
         "-76.2167",
         "73.45",
         "68",
         "0",
         "9.22",
         "PE",
         "2025-04-12"
        ],
        [
         "33",
         "33",
         "santa ana",
         "33.7456",
         "-117.8678",
         "76.44",
         "58",
         "0",
         "5.75",
         "US",
         "2025-04-12"
        ],
        [
         "56",
         "56",
         "port augusta",
         "-32.5",
         "137.7667",
         "70.18",
         "41",
         "0",
         "3.98",
         "AU",
         "2025-04-13"
        ],
        [
         "119",
         "119",
         "galliano",
         "29.4422",
         "-90.2992",
         "71.6",
         "40",
         "0",
         "5.75",
         "US",
         "2025-04-12"
        ],
        [
         "134",
         "134",
         "adolfo lopez mateos",
         "28.4667",
         "-107.3",
         "78.49",
         "5",
         "0",
         "5.08",
         "MX",
         "2025-04-12"
        ]
       ],
       "shape": {
        "columns": 10,
        "rows": 5
       }
      },
      "text/html": [
       "<div>\n",
       "<style scoped>\n",
       "    .dataframe tbody tr th:only-of-type {\n",
       "        vertical-align: middle;\n",
       "    }\n",
       "\n",
       "    .dataframe tbody tr th {\n",
       "        vertical-align: top;\n",
       "    }\n",
       "\n",
       "    .dataframe thead th {\n",
       "        text-align: right;\n",
       "    }\n",
       "</style>\n",
       "<table border=\"1\" class=\"dataframe\">\n",
       "  <thead>\n",
       "    <tr style=\"text-align: right;\">\n",
       "      <th></th>\n",
       "      <th>City_ID</th>\n",
       "      <th>City</th>\n",
       "      <th>Lat</th>\n",
       "      <th>Lng</th>\n",
       "      <th>Max Temp</th>\n",
       "      <th>Humidity</th>\n",
       "      <th>Cloudiness</th>\n",
       "      <th>Wind Speed</th>\n",
       "      <th>Country</th>\n",
       "      <th>Date</th>\n",
       "    </tr>\n",
       "  </thead>\n",
       "  <tbody>\n",
       "    <tr>\n",
       "      <th>14</th>\n",
       "      <td>14</td>\n",
       "      <td>pisco</td>\n",
       "      <td>-13.7000</td>\n",
       "      <td>-76.2167</td>\n",
       "      <td>73.45</td>\n",
       "      <td>68</td>\n",
       "      <td>0</td>\n",
       "      <td>9.22</td>\n",
       "      <td>PE</td>\n",
       "      <td>2025-04-12</td>\n",
       "    </tr>\n",
       "    <tr>\n",
       "      <th>33</th>\n",
       "      <td>33</td>\n",
       "      <td>santa ana</td>\n",
       "      <td>33.7456</td>\n",
       "      <td>-117.8678</td>\n",
       "      <td>76.44</td>\n",
       "      <td>58</td>\n",
       "      <td>0</td>\n",
       "      <td>5.75</td>\n",
       "      <td>US</td>\n",
       "      <td>2025-04-12</td>\n",
       "    </tr>\n",
       "    <tr>\n",
       "      <th>56</th>\n",
       "      <td>56</td>\n",
       "      <td>port augusta</td>\n",
       "      <td>-32.5000</td>\n",
       "      <td>137.7667</td>\n",
       "      <td>70.18</td>\n",
       "      <td>41</td>\n",
       "      <td>0</td>\n",
       "      <td>3.98</td>\n",
       "      <td>AU</td>\n",
       "      <td>2025-04-13</td>\n",
       "    </tr>\n",
       "    <tr>\n",
       "      <th>119</th>\n",
       "      <td>119</td>\n",
       "      <td>galliano</td>\n",
       "      <td>29.4422</td>\n",
       "      <td>-90.2992</td>\n",
       "      <td>71.60</td>\n",
       "      <td>40</td>\n",
       "      <td>0</td>\n",
       "      <td>5.75</td>\n",
       "      <td>US</td>\n",
       "      <td>2025-04-12</td>\n",
       "    </tr>\n",
       "    <tr>\n",
       "      <th>134</th>\n",
       "      <td>134</td>\n",
       "      <td>adolfo lopez mateos</td>\n",
       "      <td>28.4667</td>\n",
       "      <td>-107.3000</td>\n",
       "      <td>78.49</td>\n",
       "      <td>5</td>\n",
       "      <td>0</td>\n",
       "      <td>5.08</td>\n",
       "      <td>MX</td>\n",
       "      <td>2025-04-12</td>\n",
       "    </tr>\n",
       "  </tbody>\n",
       "</table>\n",
       "</div>"
      ],
      "text/plain": [
       "     City_ID                 City      Lat       Lng  Max Temp  Humidity  \\\n",
       "14        14                pisco -13.7000  -76.2167     73.45        68   \n",
       "33        33            santa ana  33.7456 -117.8678     76.44        58   \n",
       "56        56         port augusta -32.5000  137.7667     70.18        41   \n",
       "119      119             galliano  29.4422  -90.2992     71.60        40   \n",
       "134      134  adolfo lopez mateos  28.4667 -107.3000     78.49         5   \n",
       "\n",
       "     Cloudiness  Wind Speed Country        Date  \n",
       "14            0        9.22      PE  2025-04-12  \n",
       "33            0        5.75      US  2025-04-12  \n",
       "56            0        3.98      AU  2025-04-13  \n",
       "119           0        5.75      US  2025-04-12  \n",
       "134           0        5.08      MX  2025-04-12  "
      ]
     },
     "execution_count": 16,
     "metadata": {},
     "output_type": "execute_result"
    }
   ],
   "source": [
    "# Narrow down cities that fit criteria and drop any results with null values\n",
    "ideal_df=(city_data_df[city_data_df[\"Max Temp\"]<80]\n",
    "          [city_data_df[\"Max Temp\"]>68]\n",
    "          [city_data_df[\"Wind Speed\"]<10]\n",
    "          [city_data_df[\"Cloudiness\"]==0])\n",
    "\n",
    "# Drop any rows with null values\n",
    "ideal_df.dropna(inplace=True)\n",
    "\n",
    "# Display sample data\n",
    "ideal_df.head()"
   ]
  },
  {
   "cell_type": "markdown",
   "metadata": {},
   "source": [
    "### Step 3: Create a new DataFrame called `hotel_df`."
   ]
  },
  {
   "cell_type": "code",
   "execution_count": 17,
   "metadata": {},
   "outputs": [
    {
     "data": {
      "application/vnd.microsoft.datawrangler.viewer.v0+json": {
       "columns": [
        {
         "name": "index",
         "rawType": "int64",
         "type": "integer"
        },
        {
         "name": "City",
         "rawType": "object",
         "type": "string"
        },
        {
         "name": "Country",
         "rawType": "object",
         "type": "string"
        },
        {
         "name": "Lat",
         "rawType": "float64",
         "type": "float"
        },
        {
         "name": "Lng",
         "rawType": "float64",
         "type": "float"
        },
        {
         "name": "Humidity",
         "rawType": "int64",
         "type": "integer"
        },
        {
         "name": "Hotel Name",
         "rawType": "object",
         "type": "string"
        }
       ],
       "conversionMethod": "pd.DataFrame",
       "ref": "e0758323-688d-42e5-83e9-2aae96ff9097",
       "rows": [
        [
         "14",
         "pisco",
         "PE",
         "-13.7",
         "-76.2167",
         "68",
         ""
        ],
        [
         "33",
         "santa ana",
         "US",
         "33.7456",
         "-117.8678",
         "58",
         ""
        ],
        [
         "56",
         "port augusta",
         "AU",
         "-32.5",
         "137.7667",
         "41",
         ""
        ],
        [
         "119",
         "galliano",
         "US",
         "29.4422",
         "-90.2992",
         "40",
         ""
        ],
        [
         "134",
         "adolfo lopez mateos",
         "MX",
         "28.4667",
         "-107.3",
         "5",
         ""
        ]
       ],
       "shape": {
        "columns": 6,
        "rows": 5
       }
      },
      "text/html": [
       "<div>\n",
       "<style scoped>\n",
       "    .dataframe tbody tr th:only-of-type {\n",
       "        vertical-align: middle;\n",
       "    }\n",
       "\n",
       "    .dataframe tbody tr th {\n",
       "        vertical-align: top;\n",
       "    }\n",
       "\n",
       "    .dataframe thead th {\n",
       "        text-align: right;\n",
       "    }\n",
       "</style>\n",
       "<table border=\"1\" class=\"dataframe\">\n",
       "  <thead>\n",
       "    <tr style=\"text-align: right;\">\n",
       "      <th></th>\n",
       "      <th>City</th>\n",
       "      <th>Country</th>\n",
       "      <th>Lat</th>\n",
       "      <th>Lng</th>\n",
       "      <th>Humidity</th>\n",
       "      <th>Hotel Name</th>\n",
       "    </tr>\n",
       "  </thead>\n",
       "  <tbody>\n",
       "    <tr>\n",
       "      <th>14</th>\n",
       "      <td>pisco</td>\n",
       "      <td>PE</td>\n",
       "      <td>-13.7000</td>\n",
       "      <td>-76.2167</td>\n",
       "      <td>68</td>\n",
       "      <td></td>\n",
       "    </tr>\n",
       "    <tr>\n",
       "      <th>33</th>\n",
       "      <td>santa ana</td>\n",
       "      <td>US</td>\n",
       "      <td>33.7456</td>\n",
       "      <td>-117.8678</td>\n",
       "      <td>58</td>\n",
       "      <td></td>\n",
       "    </tr>\n",
       "    <tr>\n",
       "      <th>56</th>\n",
       "      <td>port augusta</td>\n",
       "      <td>AU</td>\n",
       "      <td>-32.5000</td>\n",
       "      <td>137.7667</td>\n",
       "      <td>41</td>\n",
       "      <td></td>\n",
       "    </tr>\n",
       "    <tr>\n",
       "      <th>119</th>\n",
       "      <td>galliano</td>\n",
       "      <td>US</td>\n",
       "      <td>29.4422</td>\n",
       "      <td>-90.2992</td>\n",
       "      <td>40</td>\n",
       "      <td></td>\n",
       "    </tr>\n",
       "    <tr>\n",
       "      <th>134</th>\n",
       "      <td>adolfo lopez mateos</td>\n",
       "      <td>MX</td>\n",
       "      <td>28.4667</td>\n",
       "      <td>-107.3000</td>\n",
       "      <td>5</td>\n",
       "      <td></td>\n",
       "    </tr>\n",
       "  </tbody>\n",
       "</table>\n",
       "</div>"
      ],
      "text/plain": [
       "                    City Country      Lat       Lng  Humidity Hotel Name\n",
       "14                 pisco      PE -13.7000  -76.2167        68           \n",
       "33             santa ana      US  33.7456 -117.8678        58           \n",
       "56          port augusta      AU -32.5000  137.7667        41           \n",
       "119             galliano      US  29.4422  -90.2992        40           \n",
       "134  adolfo lopez mateos      MX  28.4667 -107.3000         5           "
      ]
     },
     "execution_count": 17,
     "metadata": {},
     "output_type": "execute_result"
    }
   ],
   "source": [
    "# Use the Pandas copy function to create DataFrame called hotel_df to store the city, country, coordinates, and humidity\n",
    "hotel_df = ideal_df[[\"City\", \"Country\", \"Lat\", \"Lng\", \"Humidity\"]].copy()\n",
    "\n",
    "# Add an empty column, \"Hotel Name,\" to the DataFrame so you can store the hotel found using the Geoapify API\n",
    "hotel_df[\"Hotel Name\"] = \"\"\n",
    "\n",
    "# Display sample data\n",
    "hotel_df.head()"
   ]
  },
  {
   "cell_type": "markdown",
   "metadata": {},
   "source": [
    "### Step 4: For each city, use the Geoapify API to find the first hotel located within 10,000 metres of your coordinates."
   ]
  },
  {
   "cell_type": "code",
   "execution_count": 21,
   "metadata": {},
   "outputs": [
    {
     "name": "stdout",
     "output_type": "stream",
     "text": [
      "Starting hotel search\n",
      "pisco - nearest hotel: La Portada\n",
      "santa ana - nearest hotel: Holiday Inn Express\n",
      "port augusta - nearest hotel: Hotel Commonwealth\n",
      "galliano - nearest hotel: Fairfield Inn & Suites Cut Off-Galliano\n",
      "adolfo lopez mateos - nearest hotel: No hotel found\n",
      "tahta - nearest hotel: No hotel found\n",
      "mount isa - nearest hotel: Ibis Styles\n",
      "inhambane - nearest hotel: Hotel de Inhambane\n",
      "callao - nearest hotel: Casa Ronald\n",
      "laguna - nearest hotel: Holiday Inn Express & Suites\n"
     ]
    },
    {
     "data": {
      "application/vnd.microsoft.datawrangler.viewer.v0+json": {
       "columns": [
        {
         "name": "index",
         "rawType": "int64",
         "type": "integer"
        },
        {
         "name": "City",
         "rawType": "object",
         "type": "string"
        },
        {
         "name": "Country",
         "rawType": "object",
         "type": "string"
        },
        {
         "name": "Lat",
         "rawType": "float64",
         "type": "float"
        },
        {
         "name": "Lng",
         "rawType": "float64",
         "type": "float"
        },
        {
         "name": "Humidity",
         "rawType": "int64",
         "type": "integer"
        },
        {
         "name": "Hotel Name",
         "rawType": "object",
         "type": "string"
        }
       ],
       "conversionMethod": "pd.DataFrame",
       "ref": "331498ee-a41d-481a-ad82-6438ea5fb08b",
       "rows": [
        [
         "14",
         "pisco",
         "PE",
         "-13.7",
         "-76.2167",
         "68",
         "La Portada"
        ],
        [
         "33",
         "santa ana",
         "US",
         "33.7456",
         "-117.8678",
         "58",
         "Holiday Inn Express"
        ],
        [
         "56",
         "port augusta",
         "AU",
         "-32.5",
         "137.7667",
         "41",
         "Hotel Commonwealth"
        ],
        [
         "119",
         "galliano",
         "US",
         "29.4422",
         "-90.2992",
         "40",
         "Fairfield Inn & Suites Cut Off-Galliano"
        ],
        [
         "134",
         "adolfo lopez mateos",
         "MX",
         "28.4667",
         "-107.3",
         "5",
         "No hotel found"
        ],
        [
         "268",
         "tahta",
         "EG",
         "26.7693",
         "31.5021",
         "31",
         "No hotel found"
        ],
        [
         "285",
         "mount isa",
         "AU",
         "-20.7333",
         "139.5",
         "60",
         "Ibis Styles"
        ],
        [
         "346",
         "inhambane",
         "MZ",
         "-23.865",
         "35.3833",
         "83",
         "Hotel de Inhambane"
        ],
        [
         "399",
         "callao",
         "PE",
         "-12.0667",
         "-77.15",
         "64",
         "Casa Ronald"
        ],
        [
         "509",
         "laguna",
         "US",
         "38.421",
         "-121.4238",
         "57",
         "Holiday Inn Express & Suites"
        ]
       ],
       "shape": {
        "columns": 6,
        "rows": 10
       }
      },
      "text/html": [
       "<div>\n",
       "<style scoped>\n",
       "    .dataframe tbody tr th:only-of-type {\n",
       "        vertical-align: middle;\n",
       "    }\n",
       "\n",
       "    .dataframe tbody tr th {\n",
       "        vertical-align: top;\n",
       "    }\n",
       "\n",
       "    .dataframe thead th {\n",
       "        text-align: right;\n",
       "    }\n",
       "</style>\n",
       "<table border=\"1\" class=\"dataframe\">\n",
       "  <thead>\n",
       "    <tr style=\"text-align: right;\">\n",
       "      <th></th>\n",
       "      <th>City</th>\n",
       "      <th>Country</th>\n",
       "      <th>Lat</th>\n",
       "      <th>Lng</th>\n",
       "      <th>Humidity</th>\n",
       "      <th>Hotel Name</th>\n",
       "    </tr>\n",
       "  </thead>\n",
       "  <tbody>\n",
       "    <tr>\n",
       "      <th>14</th>\n",
       "      <td>pisco</td>\n",
       "      <td>PE</td>\n",
       "      <td>-13.7000</td>\n",
       "      <td>-76.2167</td>\n",
       "      <td>68</td>\n",
       "      <td>La Portada</td>\n",
       "    </tr>\n",
       "    <tr>\n",
       "      <th>33</th>\n",
       "      <td>santa ana</td>\n",
       "      <td>US</td>\n",
       "      <td>33.7456</td>\n",
       "      <td>-117.8678</td>\n",
       "      <td>58</td>\n",
       "      <td>Holiday Inn Express</td>\n",
       "    </tr>\n",
       "    <tr>\n",
       "      <th>56</th>\n",
       "      <td>port augusta</td>\n",
       "      <td>AU</td>\n",
       "      <td>-32.5000</td>\n",
       "      <td>137.7667</td>\n",
       "      <td>41</td>\n",
       "      <td>Hotel Commonwealth</td>\n",
       "    </tr>\n",
       "    <tr>\n",
       "      <th>119</th>\n",
       "      <td>galliano</td>\n",
       "      <td>US</td>\n",
       "      <td>29.4422</td>\n",
       "      <td>-90.2992</td>\n",
       "      <td>40</td>\n",
       "      <td>Fairfield Inn &amp; Suites Cut Off-Galliano</td>\n",
       "    </tr>\n",
       "    <tr>\n",
       "      <th>134</th>\n",
       "      <td>adolfo lopez mateos</td>\n",
       "      <td>MX</td>\n",
       "      <td>28.4667</td>\n",
       "      <td>-107.3000</td>\n",
       "      <td>5</td>\n",
       "      <td>No hotel found</td>\n",
       "    </tr>\n",
       "    <tr>\n",
       "      <th>268</th>\n",
       "      <td>tahta</td>\n",
       "      <td>EG</td>\n",
       "      <td>26.7693</td>\n",
       "      <td>31.5021</td>\n",
       "      <td>31</td>\n",
       "      <td>No hotel found</td>\n",
       "    </tr>\n",
       "    <tr>\n",
       "      <th>285</th>\n",
       "      <td>mount isa</td>\n",
       "      <td>AU</td>\n",
       "      <td>-20.7333</td>\n",
       "      <td>139.5000</td>\n",
       "      <td>60</td>\n",
       "      <td>Ibis Styles</td>\n",
       "    </tr>\n",
       "    <tr>\n",
       "      <th>346</th>\n",
       "      <td>inhambane</td>\n",
       "      <td>MZ</td>\n",
       "      <td>-23.8650</td>\n",
       "      <td>35.3833</td>\n",
       "      <td>83</td>\n",
       "      <td>Hotel de Inhambane</td>\n",
       "    </tr>\n",
       "    <tr>\n",
       "      <th>399</th>\n",
       "      <td>callao</td>\n",
       "      <td>PE</td>\n",
       "      <td>-12.0667</td>\n",
       "      <td>-77.1500</td>\n",
       "      <td>64</td>\n",
       "      <td>Casa Ronald</td>\n",
       "    </tr>\n",
       "    <tr>\n",
       "      <th>509</th>\n",
       "      <td>laguna</td>\n",
       "      <td>US</td>\n",
       "      <td>38.4210</td>\n",
       "      <td>-121.4238</td>\n",
       "      <td>57</td>\n",
       "      <td>Holiday Inn Express &amp; Suites</td>\n",
       "    </tr>\n",
       "  </tbody>\n",
       "</table>\n",
       "</div>"
      ],
      "text/plain": [
       "                    City Country      Lat       Lng  Humidity  \\\n",
       "14                 pisco      PE -13.7000  -76.2167        68   \n",
       "33             santa ana      US  33.7456 -117.8678        58   \n",
       "56          port augusta      AU -32.5000  137.7667        41   \n",
       "119             galliano      US  29.4422  -90.2992        40   \n",
       "134  adolfo lopez mateos      MX  28.4667 -107.3000         5   \n",
       "268                tahta      EG  26.7693   31.5021        31   \n",
       "285            mount isa      AU -20.7333  139.5000        60   \n",
       "346            inhambane      MZ -23.8650   35.3833        83   \n",
       "399               callao      PE -12.0667  -77.1500        64   \n",
       "509               laguna      US  38.4210 -121.4238        57   \n",
       "\n",
       "                                  Hotel Name  \n",
       "14                                La Portada  \n",
       "33                       Holiday Inn Express  \n",
       "56                        Hotel Commonwealth  \n",
       "119  Fairfield Inn & Suites Cut Off-Galliano  \n",
       "134                           No hotel found  \n",
       "268                           No hotel found  \n",
       "285                              Ibis Styles  \n",
       "346                       Hotel de Inhambane  \n",
       "399                              Casa Ronald  \n",
       "509             Holiday Inn Express & Suites  "
      ]
     },
     "execution_count": 21,
     "metadata": {},
     "output_type": "execute_result"
    }
   ],
   "source": [
    "# Set parameters to search for a hotel\n",
    "radius = 10000\n",
    "params = {\n",
    "    \"categories\":\"accommodation.hotel\",\n",
    "    \"limit\":1,\n",
    "    \"apiKey\":geoapify_key\n",
    "}\n",
    "\n",
    "# Print a message to follow up the hotel search\n",
    "print(\"Starting hotel search\")\n",
    "\n",
    "# Iterate through the hotel_df DataFrame\n",
    "for index, row in hotel_df.iterrows():\n",
    "    # get latitude, longitude from the DataFrame\n",
    "    hlat=hotel_df.loc[index, \"Lat\"]\n",
    "    hlng=hotel_df.loc[index, \"Lng\"]\n",
    "\n",
    "    # Add the current city's latitude and longitude to the params dictionary\n",
    "    params[\"filter\"] = f\"circle:{hlng},{hlat},{radius}\"\n",
    "    params[\"bias\"] = f\"proximity:{hlng},{hlat}\"\n",
    "\n",
    "    # Set base URL\n",
    "    base_url = \"https://api.geoapify.com/v2/places\"\n",
    "\n",
    "    # Make an API request using the params dictionary\n",
    "    name_address = requests.get(base_url, params=params)\n",
    "    cod=name_address.status_code\n",
    "    # Convert the API response to JSON format\n",
    "    name_address = name_address.json()\n",
    "\n",
    "    # Grab the first hotel from the results and store the name in the hotel_df DataFrame\n",
    "    try:\n",
    "        hotel_df.loc[index, \"Hotel Name\"] = name_address[\"features\"][0][\"properties\"][\"name\"]\n",
    "    except (KeyError, IndexError):\n",
    "        # If no hotel is found, set the hotel name as \"No hotel found\".\n",
    "        hotel_df.loc[index, \"Hotel Name\"] = \"No hotel found\"\n",
    "\n",
    "    # Log the search results\n",
    "    print(f\"{hotel_df.loc[index, 'City']} - nearest hotel: {hotel_df.loc[index, 'Hotel Name']}\")\n",
    "\n",
    "# Display sample data\n",
    "hotel_df"
   ]
  },
  {
   "cell_type": "markdown",
   "metadata": {},
   "source": [
    "### Step 5: Add the hotel name and the country as additional information in the hover message for each city in the map."
   ]
  },
  {
   "cell_type": "code",
   "execution_count": 31,
   "metadata": {},
   "outputs": [
    {
     "data": {},
     "metadata": {},
     "output_type": "display_data"
    },
    {
     "data": {
      "application/vnd.holoviews_exec.v0+json": "",
      "text/html": [
       "<div id='p2445'>\n",
       "  <div id=\"af0312c6-4dc0-49fe-b801-e99ad03480f7\" data-root-id=\"p2445\" style=\"display: contents;\"></div>\n",
       "</div>\n",
       "<script type=\"application/javascript\">(function(root) {\n",
       "  var docs_json = {\"35fe492a-071f-41f5-b4c7-1b1b95cf4631\":{\"version\":\"3.5.2\",\"title\":\"Bokeh Application\",\"roots\":[{\"type\":\"object\",\"name\":\"Row\",\"id\":\"p2445\",\"attributes\":{\"name\":\"Row03248\",\"tags\":[\"embedded\"],\"stylesheets\":[\"\\n:host(.pn-loading):before, .pn-loading:before {\\n  background-color: #c3c3c3;\\n  mask-size: auto calc(min(50%, 400px));\\n  -webkit-mask-size: auto calc(min(50%, 400px));\\n}\",{\"type\":\"object\",\"name\":\"ImportedStyleSheet\",\"id\":\"p2448\",\"attributes\":{\"url\":\"https://cdn.holoviz.org/panel/1.5.2/dist/css/loading.css\"}},{\"type\":\"object\",\"name\":\"ImportedStyleSheet\",\"id\":\"p2561\",\"attributes\":{\"url\":\"https://cdn.holoviz.org/panel/1.5.2/dist/css/listpanel.css\"}},{\"type\":\"object\",\"name\":\"ImportedStyleSheet\",\"id\":\"p2446\",\"attributes\":{\"url\":\"https://cdn.holoviz.org/panel/1.5.2/dist/bundled/theme/default.css\"}},{\"type\":\"object\",\"name\":\"ImportedStyleSheet\",\"id\":\"p2447\",\"attributes\":{\"url\":\"https://cdn.holoviz.org/panel/1.5.2/dist/bundled/theme/native.css\"}}],\"margin\":0,\"sizing_mode\":\"stretch_width\",\"align\":\"start\",\"children\":[{\"type\":\"object\",\"name\":\"Spacer\",\"id\":\"p2449\",\"attributes\":{\"name\":\"HSpacer03254\",\"stylesheets\":[\"\\n:host(.pn-loading):before, .pn-loading:before {\\n  background-color: #c3c3c3;\\n  mask-size: auto calc(min(50%, 400px));\\n  -webkit-mask-size: auto calc(min(50%, 400px));\\n}\",{\"id\":\"p2448\"},{\"id\":\"p2446\"},{\"id\":\"p2447\"}],\"margin\":0,\"sizing_mode\":\"stretch_width\",\"align\":\"start\"}},{\"type\":\"object\",\"name\":\"Figure\",\"id\":\"p2502\",\"attributes\":{\"width\":null,\"height\":null,\"margin\":[5,10],\"sizing_mode\":\"fixed\",\"align\":\"start\",\"x_range\":{\"type\":\"object\",\"name\":\"Range1d\",\"id\":\"p2465\",\"attributes\":{\"tags\":[[[\"Longitude\",null]],[]],\"start\":-14761659.946116589,\"end\":16773893.325593976,\"reset_start\":-14761659.946116589,\"reset_end\":16773893.325593976,\"min_interval\":5}},\"y_range\":{\"type\":\"object\",\"name\":\"Range1d\",\"id\":\"p2466\",\"attributes\":{\"tags\":[[[\"Latitude\",null]],{\"type\":\"map\",\"entries\":[[\"invert_yaxis\",false],[\"autorange\",false]]}],\"start\":-6352645.032305777,\"end\":7162592.084141608,\"reset_start\":-6352645.032305777,\"reset_end\":7162592.084141608,\"min_interval\":5}},\"x_scale\":{\"type\":\"object\",\"name\":\"LinearScale\",\"id\":\"p2512\"},\"y_scale\":{\"type\":\"object\",\"name\":\"LinearScale\",\"id\":\"p2513\"},\"title\":{\"type\":\"object\",\"name\":\"Title\",\"id\":\"p2505\",\"attributes\":{\"text_color\":\"black\",\"text_font_size\":\"12pt\"}},\"renderers\":[{\"type\":\"object\",\"name\":\"TileRenderer\",\"id\":\"p2535\",\"attributes\":{\"level\":\"underlay\",\"tile_source\":{\"type\":\"object\",\"name\":\"WMTSTileSource\",\"id\":\"p2531\",\"attributes\":{\"url\":\"https://c.tile.openstreetmap.org/{Z}/{X}/{Y}.png\",\"attribution\":\"&copy; <a href=\\\"https://www.openstreetmap.org/copyright\\\">OpenStreetMap</a> contributors\"}}}},{\"type\":\"object\",\"name\":\"GlyphRenderer\",\"id\":\"p2551\",\"attributes\":{\"name\":\"color\",\"data_source\":{\"type\":\"object\",\"name\":\"ColumnDataSource\",\"id\":\"p2540\",\"attributes\":{\"selected\":{\"type\":\"object\",\"name\":\"Selection\",\"id\":\"p2541\",\"attributes\":{\"indices\":[],\"line_indices\":[]}},\"selection_policy\":{\"type\":\"object\",\"name\":\"UnionRenderers\",\"id\":\"p2542\"},\"data\":{\"type\":\"map\",\"entries\":[[\"Lng\",{\"type\":\"ndarray\",\"array\":{\"type\":\"bytes\",\"data\":\"jXd8h8YuYMH+9ELvugZpwUV5jdxWQG1BRznRnjssY8EeeZarUMhmwUO/jt02wUpBarPmno2ebUEbkyN4EQ1OQdLU3laBYWDBqgXCcgTIacE=\"},\"shape\":[10],\"dtype\":\"float64\",\"order\":\"little\"}],[\"Lat\",{\"type\":\"ndarray\",\"array\":{\"type\":\"bytes\",\"data\":\"iCBWn+x+N8E0b1OhInpOQZe/I+vBNk3BBcy2vTgvSkEXE1A20zxJQUEx+yNLnEdBh+La3JQBQsGSSoQwo+FEwfEOFj1UpjTBWI+IuVeyUUE=\"},\"shape\":[10],\"dtype\":\"float64\",\"order\":\"little\"}],[\"City\",[\"pisco\",\"santa ana\",\"port augusta\",\"galliano\",\"adolfo lopez mateos\",\"tahta\",\"mount isa\",\"inhambane\",\"callao\",\"laguna\"]],[\"Hotel_Name\",[\"La Portada\",\"Holiday Inn Express\",\"Hotel Commonwealth\",\"Fairfield Inn & Suites Cut Off-Galliano\",\"No hotel found\",\"No hotel found\",\"Ibis Styles\",\"Hotel de Inhambane\",\"Casa Ronald\",\"Holiday Inn Express & Suites\"]],[\"Country\",[\"PE\",\"US\",\"AU\",\"US\",\"MX\",\"EG\",\"AU\",\"MZ\",\"PE\",\"US\"]],[\"color\",[\"pisco\",\"santa ana\",\"port augusta\",\"galliano\",\"adolfo lopez mateos\",\"tahta\",\"mount isa\",\"inhambane\",\"callao\",\"laguna\"]]]}}},\"view\":{\"type\":\"object\",\"name\":\"CDSView\",\"id\":\"p2552\",\"attributes\":{\"filter\":{\"type\":\"object\",\"name\":\"AllIndices\",\"id\":\"p2553\"}}},\"glyph\":{\"type\":\"object\",\"name\":\"Scatter\",\"id\":\"p2546\",\"attributes\":{\"tags\":[\"apply_ranges\"],\"x\":{\"type\":\"field\",\"field\":\"Lng\"},\"y\":{\"type\":\"field\",\"field\":\"Lat\"},\"size\":{\"type\":\"value\",\"value\":5.477225575051661},\"line_color\":{\"type\":\"field\",\"field\":\"color\",\"transform\":{\"type\":\"object\",\"name\":\"CategoricalColorMapper\",\"id\":\"p2539\",\"attributes\":{\"palette\":[\"#1f77b3\",\"#ff7e0e\",\"#2ba02b\",\"#d62628\",\"#9367bc\",\"#8c564b\",\"#e277c1\",\"#7e7e7e\",\"#bcbc21\",\"#16bdcf\"],\"factors\":[\"pisco\",\"santa ana\",\"port augusta\",\"galliano\",\"adolfo lopez mateos\",\"tahta\",\"mount isa\",\"inhambane\",\"callao\",\"laguna\"]}}},\"fill_color\":{\"type\":\"field\",\"field\":\"color\",\"transform\":{\"id\":\"p2539\"}},\"hatch_color\":{\"type\":\"field\",\"field\":\"color\",\"transform\":{\"id\":\"p2539\"}}}},\"selection_glyph\":{\"type\":\"object\",\"name\":\"Scatter\",\"id\":\"p2548\",\"attributes\":{\"tags\":[\"apply_ranges\"],\"x\":{\"type\":\"field\",\"field\":\"Lng\"},\"y\":{\"type\":\"field\",\"field\":\"Lat\"},\"size\":{\"type\":\"value\",\"value\":5.477225575051661},\"line_color\":{\"type\":\"field\",\"field\":\"color\",\"transform\":{\"id\":\"p2539\"}},\"fill_color\":{\"type\":\"field\",\"field\":\"color\",\"transform\":{\"id\":\"p2539\"}},\"hatch_color\":{\"type\":\"field\",\"field\":\"color\",\"transform\":{\"id\":\"p2539\"}}}},\"nonselection_glyph\":{\"type\":\"object\",\"name\":\"Scatter\",\"id\":\"p2547\",\"attributes\":{\"tags\":[\"apply_ranges\"],\"x\":{\"type\":\"field\",\"field\":\"Lng\"},\"y\":{\"type\":\"field\",\"field\":\"Lat\"},\"size\":{\"type\":\"value\",\"value\":5.477225575051661},\"line_color\":{\"type\":\"field\",\"field\":\"color\",\"transform\":{\"id\":\"p2539\"}},\"line_alpha\":{\"type\":\"value\",\"value\":0.1},\"fill_color\":{\"type\":\"field\",\"field\":\"color\",\"transform\":{\"id\":\"p2539\"}},\"fill_alpha\":{\"type\":\"value\",\"value\":0.1},\"hatch_color\":{\"type\":\"field\",\"field\":\"color\",\"transform\":{\"id\":\"p2539\"}},\"hatch_alpha\":{\"type\":\"value\",\"value\":0.1}}},\"hover_glyph\":{\"type\":\"object\",\"name\":\"Scatter\",\"id\":\"p2549\",\"attributes\":{\"tags\":[\"apply_ranges\"],\"x\":{\"type\":\"field\",\"field\":\"Lng\"},\"y\":{\"type\":\"field\",\"field\":\"Lat\"},\"size\":{\"type\":\"value\",\"value\":5.477225575051661},\"line_color\":{\"type\":\"field\",\"field\":\"color\",\"transform\":{\"id\":\"p2539\"}},\"fill_color\":{\"type\":\"field\",\"field\":\"color\",\"transform\":{\"id\":\"p2539\"}},\"hatch_color\":{\"type\":\"field\",\"field\":\"color\",\"transform\":{\"id\":\"p2539\"}}}},\"muted_glyph\":{\"type\":\"object\",\"name\":\"Scatter\",\"id\":\"p2550\",\"attributes\":{\"tags\":[\"apply_ranges\"],\"x\":{\"type\":\"field\",\"field\":\"Lng\"},\"y\":{\"type\":\"field\",\"field\":\"Lat\"},\"size\":{\"type\":\"value\",\"value\":5.477225575051661},\"line_color\":{\"type\":\"field\",\"field\":\"color\",\"transform\":{\"id\":\"p2539\"}},\"line_alpha\":{\"type\":\"value\",\"value\":0.2},\"fill_color\":{\"type\":\"field\",\"field\":\"color\",\"transform\":{\"id\":\"p2539\"}},\"fill_alpha\":{\"type\":\"value\",\"value\":0.2},\"hatch_color\":{\"type\":\"field\",\"field\":\"color\",\"transform\":{\"id\":\"p2539\"}},\"hatch_alpha\":{\"type\":\"value\",\"value\":0.2}}}}}],\"toolbar\":{\"type\":\"object\",\"name\":\"Toolbar\",\"id\":\"p2511\",\"attributes\":{\"tools\":[{\"type\":\"object\",\"name\":\"WheelZoomTool\",\"id\":\"p2469\",\"attributes\":{\"renderers\":\"auto\",\"zoom_on_axis\":false}},{\"type\":\"object\",\"name\":\"BoxZoomTool\",\"id\":\"p2477\",\"attributes\":{\"overlay\":{\"type\":\"object\",\"name\":\"BoxAnnotation\",\"id\":\"p2470\",\"attributes\":{\"syncable\":false,\"line_color\":\"black\",\"line_alpha\":1.0,\"line_width\":2,\"line_dash\":[4,4],\"fill_color\":\"lightgrey\",\"fill_alpha\":0.5,\"level\":\"overlay\",\"visible\":false,\"left\":{\"type\":\"number\",\"value\":\"nan\"},\"right\":{\"type\":\"number\",\"value\":\"nan\"},\"top\":{\"type\":\"number\",\"value\":\"nan\"},\"bottom\":{\"type\":\"number\",\"value\":\"nan\"},\"left_units\":\"canvas\",\"right_units\":\"canvas\",\"top_units\":\"canvas\",\"bottom_units\":\"canvas\",\"handles\":{\"type\":\"object\",\"name\":\"BoxInteractionHandles\",\"id\":\"p1014\",\"attributes\":{\"all\":{\"type\":\"object\",\"name\":\"AreaVisuals\",\"id\":\"p1013\",\"attributes\":{\"fill_color\":\"white\",\"hover_fill_color\":\"lightgray\"}}}}}},\"match_aspect\":true}},{\"type\":\"object\",\"name\":\"HoverTool\",\"id\":\"p2501\",\"attributes\":{\"tags\":[\"hv_created\"],\"renderers\":[{\"id\":\"p2551\"}],\"tooltips\":[[\"Lng\",\"$x{custom}\"],[\"Lat\",\"$y{custom}\"],[\"City\",\"@{City}\"],[\"Hotel Name\",\"@{Hotel_Name}\"],[\"Country\",\"@{Country}\"]],\"formatters\":{\"type\":\"map\",\"entries\":[[\"$x\",{\"type\":\"object\",\"name\":\"CustomJSHover\",\"id\":\"p2556\",\"attributes\":{\"code\":\"\\n        const projections = Bokeh.require(\\\"core/util/projections\\\");\\n        const {snap_x, snap_y} = special_vars\\n        const coords = projections.wgs84_mercator.invert(snap_x, snap_y)\\n        return \\\"\\\" + (coords[0]).toFixed(4)\\n    \"}}],[\"$y\",{\"type\":\"object\",\"name\":\"CustomJSHover\",\"id\":\"p2557\",\"attributes\":{\"code\":\"\\n        const projections = Bokeh.require(\\\"core/util/projections\\\");\\n        const {snap_x, snap_y} = special_vars\\n        const coords = projections.wgs84_mercator.invert(snap_x, snap_y)\\n        return \\\"\\\" + (coords[1]).toFixed(4)\\n    \"}}]]}}},{\"type\":\"object\",\"name\":\"PanTool\",\"id\":\"p2525\"},{\"type\":\"object\",\"name\":\"ResetTool\",\"id\":\"p2526\"}],\"active_drag\":{\"id\":\"p2525\"}}},\"left\":[{\"type\":\"object\",\"name\":\"LinearAxis\",\"id\":\"p2519\",\"attributes\":{\"ticker\":{\"type\":\"object\",\"name\":\"MercatorTicker\",\"id\":\"p2529\",\"attributes\":{\"mantissas\":[1,2,5],\"dimension\":\"lat\"}},\"formatter\":{\"type\":\"object\",\"name\":\"MercatorTickFormatter\",\"id\":\"p2530\",\"attributes\":{\"dimension\":\"lat\"}},\"axis_label\":\"Latitude\",\"major_label_policy\":{\"type\":\"object\",\"name\":\"AllLabels\",\"id\":\"p2522\"}}}],\"right\":[{\"type\":\"object\",\"name\":\"Legend\",\"id\":\"p2554\",\"attributes\":{\"location\":[0,0],\"click_policy\":\"mute\",\"items\":[{\"type\":\"object\",\"name\":\"LegendItem\",\"id\":\"p2555\",\"attributes\":{\"label\":{\"type\":\"field\",\"field\":\"color\"},\"renderers\":[{\"id\":\"p2551\"}]}}]}}],\"below\":[{\"type\":\"object\",\"name\":\"LinearAxis\",\"id\":\"p2514\",\"attributes\":{\"ticker\":{\"type\":\"object\",\"name\":\"MercatorTicker\",\"id\":\"p2527\",\"attributes\":{\"mantissas\":[1,2,5],\"dimension\":\"lon\"}},\"formatter\":{\"type\":\"object\",\"name\":\"MercatorTickFormatter\",\"id\":\"p2528\",\"attributes\":{\"dimension\":\"lon\"}},\"axis_label\":\"Longitude\",\"major_label_policy\":{\"type\":\"object\",\"name\":\"AllLabels\",\"id\":\"p2517\"}}}],\"center\":[{\"type\":\"object\",\"name\":\"Grid\",\"id\":\"p2518\",\"attributes\":{\"axis\":{\"id\":\"p2514\"},\"grid_line_color\":null}},{\"type\":\"object\",\"name\":\"Grid\",\"id\":\"p2523\",\"attributes\":{\"dimension\":1,\"axis\":{\"id\":\"p2519\"},\"grid_line_color\":null}}],\"frame_width\":700,\"frame_height\":300,\"min_border_top\":10,\"min_border_bottom\":10,\"min_border_left\":10,\"min_border_right\":10,\"output_backend\":\"webgl\",\"match_aspect\":true}},{\"type\":\"object\",\"name\":\"Spacer\",\"id\":\"p2559\",\"attributes\":{\"name\":\"HSpacer03255\",\"stylesheets\":[\"\\n:host(.pn-loading):before, .pn-loading:before {\\n  background-color: #c3c3c3;\\n  mask-size: auto calc(min(50%, 400px));\\n  -webkit-mask-size: auto calc(min(50%, 400px));\\n}\",{\"id\":\"p2448\"},{\"id\":\"p2446\"},{\"id\":\"p2447\"}],\"margin\":0,\"sizing_mode\":\"stretch_width\",\"align\":\"start\"}}]}}],\"defs\":[{\"type\":\"model\",\"name\":\"ReactiveHTML1\"},{\"type\":\"model\",\"name\":\"FlexBox1\",\"properties\":[{\"name\":\"align_content\",\"kind\":\"Any\",\"default\":\"flex-start\"},{\"name\":\"align_items\",\"kind\":\"Any\",\"default\":\"flex-start\"},{\"name\":\"flex_direction\",\"kind\":\"Any\",\"default\":\"row\"},{\"name\":\"flex_wrap\",\"kind\":\"Any\",\"default\":\"wrap\"},{\"name\":\"gap\",\"kind\":\"Any\",\"default\":\"\"},{\"name\":\"justify_content\",\"kind\":\"Any\",\"default\":\"flex-start\"}]},{\"type\":\"model\",\"name\":\"FloatPanel1\",\"properties\":[{\"name\":\"config\",\"kind\":\"Any\",\"default\":{\"type\":\"map\"}},{\"name\":\"contained\",\"kind\":\"Any\",\"default\":true},{\"name\":\"position\",\"kind\":\"Any\",\"default\":\"right-top\"},{\"name\":\"offsetx\",\"kind\":\"Any\",\"default\":null},{\"name\":\"offsety\",\"kind\":\"Any\",\"default\":null},{\"name\":\"theme\",\"kind\":\"Any\",\"default\":\"primary\"},{\"name\":\"status\",\"kind\":\"Any\",\"default\":\"normalized\"}]},{\"type\":\"model\",\"name\":\"GridStack1\",\"properties\":[{\"name\":\"mode\",\"kind\":\"Any\",\"default\":\"warn\"},{\"name\":\"ncols\",\"kind\":\"Any\",\"default\":null},{\"name\":\"nrows\",\"kind\":\"Any\",\"default\":null},{\"name\":\"allow_resize\",\"kind\":\"Any\",\"default\":true},{\"name\":\"allow_drag\",\"kind\":\"Any\",\"default\":true},{\"name\":\"state\",\"kind\":\"Any\",\"default\":[]}]},{\"type\":\"model\",\"name\":\"drag1\",\"properties\":[{\"name\":\"slider_width\",\"kind\":\"Any\",\"default\":5},{\"name\":\"slider_color\",\"kind\":\"Any\",\"default\":\"black\"},{\"name\":\"value\",\"kind\":\"Any\",\"default\":50}]},{\"type\":\"model\",\"name\":\"click1\",\"properties\":[{\"name\":\"terminal_output\",\"kind\":\"Any\",\"default\":\"\"},{\"name\":\"debug_name\",\"kind\":\"Any\",\"default\":\"\"},{\"name\":\"clears\",\"kind\":\"Any\",\"default\":0}]},{\"type\":\"model\",\"name\":\"FastWrapper1\",\"properties\":[{\"name\":\"object\",\"kind\":\"Any\",\"default\":null},{\"name\":\"style\",\"kind\":\"Any\",\"default\":null}]},{\"type\":\"model\",\"name\":\"NotificationAreaBase1\",\"properties\":[{\"name\":\"js_events\",\"kind\":\"Any\",\"default\":{\"type\":\"map\"}},{\"name\":\"position\",\"kind\":\"Any\",\"default\":\"bottom-right\"},{\"name\":\"_clear\",\"kind\":\"Any\",\"default\":0}]},{\"type\":\"model\",\"name\":\"NotificationArea1\",\"properties\":[{\"name\":\"js_events\",\"kind\":\"Any\",\"default\":{\"type\":\"map\"}},{\"name\":\"notifications\",\"kind\":\"Any\",\"default\":[]},{\"name\":\"position\",\"kind\":\"Any\",\"default\":\"bottom-right\"},{\"name\":\"_clear\",\"kind\":\"Any\",\"default\":0},{\"name\":\"types\",\"kind\":\"Any\",\"default\":[{\"type\":\"map\",\"entries\":[[\"type\",\"warning\"],[\"background\",\"#ffc107\"],[\"icon\",{\"type\":\"map\",\"entries\":[[\"className\",\"fas fa-exclamation-triangle\"],[\"tagName\",\"i\"],[\"color\",\"white\"]]}]]},{\"type\":\"map\",\"entries\":[[\"type\",\"info\"],[\"background\",\"#007bff\"],[\"icon\",{\"type\":\"map\",\"entries\":[[\"className\",\"fas fa-info-circle\"],[\"tagName\",\"i\"],[\"color\",\"white\"]]}]]}]}]},{\"type\":\"model\",\"name\":\"Notification\",\"properties\":[{\"name\":\"background\",\"kind\":\"Any\",\"default\":null},{\"name\":\"duration\",\"kind\":\"Any\",\"default\":3000},{\"name\":\"icon\",\"kind\":\"Any\",\"default\":null},{\"name\":\"message\",\"kind\":\"Any\",\"default\":\"\"},{\"name\":\"notification_type\",\"kind\":\"Any\",\"default\":null},{\"name\":\"_destroyed\",\"kind\":\"Any\",\"default\":false}]},{\"type\":\"model\",\"name\":\"TemplateActions1\",\"properties\":[{\"name\":\"open_modal\",\"kind\":\"Any\",\"default\":0},{\"name\":\"close_modal\",\"kind\":\"Any\",\"default\":0}]},{\"type\":\"model\",\"name\":\"BootstrapTemplateActions1\",\"properties\":[{\"name\":\"open_modal\",\"kind\":\"Any\",\"default\":0},{\"name\":\"close_modal\",\"kind\":\"Any\",\"default\":0}]},{\"type\":\"model\",\"name\":\"TemplateEditor1\",\"properties\":[{\"name\":\"layout\",\"kind\":\"Any\",\"default\":[]}]},{\"type\":\"model\",\"name\":\"MaterialTemplateActions1\",\"properties\":[{\"name\":\"open_modal\",\"kind\":\"Any\",\"default\":0},{\"name\":\"close_modal\",\"kind\":\"Any\",\"default\":0}]},{\"type\":\"model\",\"name\":\"ReactiveESM1\"},{\"type\":\"model\",\"name\":\"JSComponent1\"},{\"type\":\"model\",\"name\":\"ReactComponent1\"},{\"type\":\"model\",\"name\":\"AnyWidgetComponent1\"},{\"type\":\"model\",\"name\":\"request_value1\",\"properties\":[{\"name\":\"fill\",\"kind\":\"Any\",\"default\":\"none\"},{\"name\":\"_synced\",\"kind\":\"Any\",\"default\":null},{\"name\":\"_request_sync\",\"kind\":\"Any\",\"default\":0}]}]}};\n",
       "  var render_items = [{\"docid\":\"35fe492a-071f-41f5-b4c7-1b1b95cf4631\",\"roots\":{\"p2445\":\"af0312c6-4dc0-49fe-b801-e99ad03480f7\"},\"root_ids\":[\"p2445\"]}];\n",
       "  var docs = Object.values(docs_json)\n",
       "  if (!docs) {\n",
       "    return\n",
       "  }\n",
       "  const py_version = docs[0].version.replace('rc', '-rc.').replace('.dev', '-dev.')\n",
       "  async function embed_document(root) {\n",
       "    var Bokeh = get_bokeh(root)\n",
       "    await Bokeh.embed.embed_items_notebook(docs_json, render_items);\n",
       "    for (const render_item of render_items) {\n",
       "      for (const root_id of render_item.root_ids) {\n",
       "\tconst id_el = document.getElementById(root_id)\n",
       "\tif (id_el.children.length && id_el.children[0].hasAttribute('data-root-id')) {\n",
       "\t  const root_el = id_el.children[0]\n",
       "\t  root_el.id = root_el.id + '-rendered'\n",
       "\t  for (const child of root_el.children) {\n",
       "            // Ensure JupyterLab does not capture keyboard shortcuts\n",
       "            // see: https://jupyterlab.readthedocs.io/en/4.1.x/extension/notebook.html#keyboard-interaction-model\n",
       "\t    child.setAttribute('data-lm-suppress-shortcuts', 'true')\n",
       "\t  }\n",
       "\t}\n",
       "      }\n",
       "    }\n",
       "  }\n",
       "  function get_bokeh(root) {\n",
       "    if (root.Bokeh === undefined) {\n",
       "      return null\n",
       "    } else if (root.Bokeh.version !== py_version) {\n",
       "      if (root.Bokeh.versions === undefined || !root.Bokeh.versions.has(py_version)) {\n",
       "\treturn null\n",
       "      }\n",
       "      return root.Bokeh.versions.get(py_version);\n",
       "    } else if (root.Bokeh.version === py_version) {\n",
       "      return root.Bokeh\n",
       "    }\n",
       "    return null\n",
       "  }\n",
       "  function is_loaded(root) {\n",
       "    var Bokeh = get_bokeh(root)\n",
       "    return (Bokeh != null && Bokeh.Panel !== undefined)\n",
       "  }\n",
       "  if (is_loaded(root)) {\n",
       "    embed_document(root);\n",
       "  } else {\n",
       "    var attempts = 0;\n",
       "    var timer = setInterval(function(root) {\n",
       "      if (is_loaded(root)) {\n",
       "        clearInterval(timer);\n",
       "        embed_document(root);\n",
       "      } else if (document.readyState == \"complete\") {\n",
       "        attempts++;\n",
       "        if (attempts > 200) {\n",
       "          clearInterval(timer);\n",
       "\t  var Bokeh = get_bokeh(root)\n",
       "\t  if (Bokeh == null || Bokeh.Panel == null) {\n",
       "            console.warn(\"Panel: ERROR: Unable to run Panel code because Bokeh or Panel library is missing\");\n",
       "\t  } else {\n",
       "\t    console.warn(\"Panel: WARNING: Attempting to render but not all required libraries could be resolved.\")\n",
       "\t    embed_document(root)\n",
       "\t  }\n",
       "        }\n",
       "      }\n",
       "    }, 25, root)\n",
       "  }\n",
       "})(window);</script>"
      ],
      "text/plain": [
       ":Overlay\n",
       "   .WMTS.I   :WMTS   [Longitude,Latitude]\n",
       "   .Points.I :Points   [Lng,Lat]   (City,Hotel Name,Country)"
      ]
     },
     "execution_count": 31,
     "metadata": {
      "application/vnd.holoviews_exec.v0+json": {
       "id": "p2445"
      }
     },
     "output_type": "execute_result"
    }
   ],
   "source": [
    "%%capture --no-display\n",
    "\n",
    "# Configure the map plot\n",
    "map2 = hotel_df.hvplot.points(\n",
    "    \"Lng\",\n",
    "    \"Lat\",\n",
    "    geo = True,\n",
    "    tiles = \"OSM\",\n",
    "    frame_width = 700,\n",
    "    frame_height = 300,\n",
    "    color = \"City\",\n",
    "    hover_cols=[\"Hotel Name\",\"Country\"]\n",
    ")\n",
    "\n",
    "# Display the map\n",
    "map2"
   ]
  }
 ],
 "metadata": {
  "kernelspec": {
   "display_name": "dev",
   "language": "python",
   "name": "python3"
  },
  "language_info": {
   "codemirror_mode": {
    "name": "ipython",
    "version": 3
   },
   "file_extension": ".py",
   "mimetype": "text/x-python",
   "name": "python",
   "nbconvert_exporter": "python",
   "pygments_lexer": "ipython3",
   "version": "3.10.15"
  },
  "latex_envs": {
   "LaTeX_envs_menu_present": true,
   "autoclose": false,
   "autocomplete": true,
   "bibliofile": "biblio.bib",
   "cite_by": "apalike",
   "current_citInitial": 1,
   "eqLabelWithNumbers": true,
   "eqNumInitial": 1,
   "hotkeys": {
    "equation": "Ctrl-E",
    "itemize": "Ctrl-I"
   },
   "labels_anchors": false,
   "latex_user_defs": false,
   "report_style_numbering": false,
   "user_envs_cfg": false
  }
 },
 "nbformat": 4,
 "nbformat_minor": 4
}
